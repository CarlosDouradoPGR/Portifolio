{
 "cells": [
  {
   "cell_type": "markdown",
   "id": "4b2d1e4c",
   "metadata": {},
   "source": [
    "# Entendimento do problema"
   ]
  },
  {
   "cell_type": "markdown",
   "id": "92175aaf",
   "metadata": {},
   "source": [
    "Se trata de um tratamento de dados para ajudar a melhor vizualização de uma coleta de avaliações de determinadas amostras. <br>\n",
    "A coleta foi realizada por uma discente do curso de engenharia de alimentos, com o objetivo de ver e etender a os resultados de sua amostra."
   ]
  },
  {
   "cell_type": "markdown",
   "id": "5d41e89b",
   "metadata": {},
   "source": [
    "# Entendendo os dados\n",
    "Os dados foram anotados em duas abas de uma planilha do excel com as seguintes informações\n",
    "\n",
    "\n",
    "| Variable Name|     Description    | Tipo  |\n",
    "| --------- |:---------------------:| -----:|\n",
    "| Provadores| código do provador    |inteiro|\n",
    "|     Cor   |   0 a 9               |inteiro|\n",
    "| Aroma     |     0 a 9             |inteiro|\n",
    "|  Sabor    |  0 a 9                |inteiro|\n",
    "| Textura   |     0 a 9             |inteiro|\n",
    "|Impressão Global|   0 a 9          |inteiro|\n",
    "|Inteção de compra| 1 a 5           |inteiro|"
   ]
  },
  {
   "cell_type": "markdown",
   "id": "9516cca0",
   "metadata": {},
   "source": [
    "## Carregando pacotes"
   ]
  },
  {
   "cell_type": "code",
   "execution_count": 1,
   "id": "09cdcbff",
   "metadata": {},
   "outputs": [],
   "source": [
    "import pandas as pd\n",
    "import numpy as np\n",
    "import matplotlib.pyplot as plt\n",
    "from scipy.stats import normaltest"
   ]
  },
  {
   "cell_type": "markdown",
   "id": "ed393ee0",
   "metadata": {},
   "source": [
    "## Carregando Dados"
   ]
  },
  {
   "cell_type": "code",
   "execution_count": 2,
   "id": "2ce91ed5",
   "metadata": {},
   "outputs": [],
   "source": [
    "df365 = pd.read_excel(\"Pasta1.xlsx\", \"365\")\n",
    "df679 = pd.read_excel(\"Pasta1.xlsx\", \"679\")"
   ]
  },
  {
   "cell_type": "code",
   "execution_count": 3,
   "id": "e15eb300",
   "metadata": {},
   "outputs": [
    {
     "data": {
      "text/html": [
       "<div>\n",
       "<style scoped>\n",
       "    .dataframe tbody tr th:only-of-type {\n",
       "        vertical-align: middle;\n",
       "    }\n",
       "\n",
       "    .dataframe tbody tr th {\n",
       "        vertical-align: top;\n",
       "    }\n",
       "\n",
       "    .dataframe thead th {\n",
       "        text-align: right;\n",
       "    }\n",
       "</style>\n",
       "<table border=\"1\" class=\"dataframe\">\n",
       "  <thead>\n",
       "    <tr style=\"text-align: right;\">\n",
       "      <th></th>\n",
       "      <th>Unnamed: 0</th>\n",
       "      <th>Unnamed: 1</th>\n",
       "      <th>Unnamed: 2</th>\n",
       "      <th>Unnamed: 3</th>\n",
       "      <th>Unnamed: 4</th>\n",
       "      <th>Unnamed: 5</th>\n",
       "      <th></th>\n",
       "      <th>Unnamed: 7</th>\n",
       "    </tr>\n",
       "  </thead>\n",
       "  <tbody>\n",
       "    <tr>\n",
       "      <th>0</th>\n",
       "      <td>NaN</td>\n",
       "      <td>Provadores</td>\n",
       "      <td>Cor</td>\n",
       "      <td>Aroma</td>\n",
       "      <td>Sabor</td>\n",
       "      <td>Textura</td>\n",
       "      <td>Impressão global</td>\n",
       "      <td>Intenção de compra</td>\n",
       "    </tr>\n",
       "    <tr>\n",
       "      <th>1</th>\n",
       "      <td>NaN</td>\n",
       "      <td>1</td>\n",
       "      <td>9</td>\n",
       "      <td>7</td>\n",
       "      <td>5</td>\n",
       "      <td>8</td>\n",
       "      <td>8</td>\n",
       "      <td>3</td>\n",
       "    </tr>\n",
       "    <tr>\n",
       "      <th>2</th>\n",
       "      <td>NaN</td>\n",
       "      <td>2</td>\n",
       "      <td>8</td>\n",
       "      <td>7</td>\n",
       "      <td>9</td>\n",
       "      <td>9</td>\n",
       "      <td>9</td>\n",
       "      <td>5</td>\n",
       "    </tr>\n",
       "    <tr>\n",
       "      <th>3</th>\n",
       "      <td>NaN</td>\n",
       "      <td>3</td>\n",
       "      <td>8</td>\n",
       "      <td>7</td>\n",
       "      <td>8</td>\n",
       "      <td>9</td>\n",
       "      <td>8</td>\n",
       "      <td>4</td>\n",
       "    </tr>\n",
       "    <tr>\n",
       "      <th>4</th>\n",
       "      <td>NaN</td>\n",
       "      <td>4</td>\n",
       "      <td>8</td>\n",
       "      <td>5</td>\n",
       "      <td>7</td>\n",
       "      <td>7</td>\n",
       "      <td>8</td>\n",
       "      <td>3</td>\n",
       "    </tr>\n",
       "  </tbody>\n",
       "</table>\n",
       "</div>"
      ],
      "text/plain": [
       "   Unnamed: 0  Unnamed: 1 Unnamed: 2 Unnamed: 3 Unnamed: 4 Unnamed: 5  \\\n",
       "0         NaN  Provadores        Cor      Aroma      Sabor    Textura   \n",
       "1         NaN           1          9          7          5          8   \n",
       "2         NaN           2          8          7          9          9   \n",
       "3         NaN           3          8          7          8          9   \n",
       "4         NaN           4          8          5          7          7   \n",
       "\n",
       "                             Unnamed: 7  \n",
       "0  Impressão global  Intenção de compra  \n",
       "1                 8                   3  \n",
       "2                 9                   5  \n",
       "3                 8                   4  \n",
       "4                 8                   3  "
      ]
     },
     "execution_count": 3,
     "metadata": {},
     "output_type": "execute_result"
    }
   ],
   "source": [
    "df365.head()"
   ]
  },
  {
   "cell_type": "code",
   "execution_count": 4,
   "id": "d113e999",
   "metadata": {},
   "outputs": [
    {
     "data": {
      "text/html": [
       "<div>\n",
       "<style scoped>\n",
       "    .dataframe tbody tr th:only-of-type {\n",
       "        vertical-align: middle;\n",
       "    }\n",
       "\n",
       "    .dataframe tbody tr th {\n",
       "        vertical-align: top;\n",
       "    }\n",
       "\n",
       "    .dataframe thead th {\n",
       "        text-align: right;\n",
       "    }\n",
       "</style>\n",
       "<table border=\"1\" class=\"dataframe\">\n",
       "  <thead>\n",
       "    <tr style=\"text-align: right;\">\n",
       "      <th></th>\n",
       "      <th>Unnamed: 0</th>\n",
       "      <th>Unnamed: 1</th>\n",
       "      <th>Unnamed: 2</th>\n",
       "      <th>Unnamed: 3</th>\n",
       "      <th>Unnamed: 4</th>\n",
       "      <th>Unnamed: 5</th>\n",
       "      <th>Unnamed: 6</th>\n",
       "      <th>Unnamed: 7</th>\n",
       "    </tr>\n",
       "  </thead>\n",
       "  <tbody>\n",
       "    <tr>\n",
       "      <th>0</th>\n",
       "      <td>NaN</td>\n",
       "      <td>Provadores</td>\n",
       "      <td>Cor</td>\n",
       "      <td>Aroma</td>\n",
       "      <td>Sabor</td>\n",
       "      <td>Textura</td>\n",
       "      <td>Impressão global</td>\n",
       "      <td>Intenção de compra</td>\n",
       "    </tr>\n",
       "    <tr>\n",
       "      <th>1</th>\n",
       "      <td>NaN</td>\n",
       "      <td>1</td>\n",
       "      <td>9</td>\n",
       "      <td>6</td>\n",
       "      <td>5</td>\n",
       "      <td>7</td>\n",
       "      <td>8</td>\n",
       "      <td>3</td>\n",
       "    </tr>\n",
       "    <tr>\n",
       "      <th>2</th>\n",
       "      <td>NaN</td>\n",
       "      <td>2</td>\n",
       "      <td>7</td>\n",
       "      <td>7</td>\n",
       "      <td>8</td>\n",
       "      <td>8</td>\n",
       "      <td>9</td>\n",
       "      <td>5</td>\n",
       "    </tr>\n",
       "    <tr>\n",
       "      <th>3</th>\n",
       "      <td>NaN</td>\n",
       "      <td>3</td>\n",
       "      <td>8</td>\n",
       "      <td>7</td>\n",
       "      <td>7</td>\n",
       "      <td>9</td>\n",
       "      <td>7</td>\n",
       "      <td>4</td>\n",
       "    </tr>\n",
       "    <tr>\n",
       "      <th>4</th>\n",
       "      <td>NaN</td>\n",
       "      <td>4</td>\n",
       "      <td>8</td>\n",
       "      <td>5</td>\n",
       "      <td>6</td>\n",
       "      <td>7</td>\n",
       "      <td>7</td>\n",
       "      <td>3</td>\n",
       "    </tr>\n",
       "  </tbody>\n",
       "</table>\n",
       "</div>"
      ],
      "text/plain": [
       "   Unnamed: 0  Unnamed: 1 Unnamed: 2 Unnamed: 3 Unnamed: 4 Unnamed: 5  \\\n",
       "0         NaN  Provadores        Cor      Aroma      Sabor    Textura   \n",
       "1         NaN           1          9          6          5          7   \n",
       "2         NaN           2          7          7          8          8   \n",
       "3         NaN           3          8          7          7          9   \n",
       "4         NaN           4          8          5          6          7   \n",
       "\n",
       "         Unnamed: 6          Unnamed: 7  \n",
       "0  Impressão global  Intenção de compra  \n",
       "1                 8                   3  \n",
       "2                 9                   5  \n",
       "3                 7                   4  \n",
       "4                 7                   3  "
      ]
     },
     "execution_count": 4,
     "metadata": {},
     "output_type": "execute_result"
    }
   ],
   "source": [
    " df679.head()"
   ]
  },
  {
   "cell_type": "code",
   "execution_count": 5,
   "id": "29854099",
   "metadata": {},
   "outputs": [
    {
     "data": {
      "text/plain": [
       "((106, 8), (102, 8))"
      ]
     },
     "execution_count": 5,
     "metadata": {},
     "output_type": "execute_result"
    }
   ],
   "source": [
    "df365.shape , df679.shape"
   ]
  },
  {
   "cell_type": "markdown",
   "id": "b32d50c9",
   "metadata": {},
   "source": [
    "Percebesse que os dados estão fora de formato para serem analisados esporadicamente, para isso requer uma limpeza inicial "
   ]
  },
  {
   "cell_type": "markdown",
   "id": "dab38bda",
   "metadata": {},
   "source": [
    "## Preparação dos dados "
   ]
  },
  {
   "cell_type": "code",
   "execution_count": 6,
   "id": "8447fc28",
   "metadata": {},
   "outputs": [],
   "source": [
    "df365.columns = [\"rr\", \"PROVADORES\", \"COR\", \"AROMA\", \"SABOR\", \"TEXTURA\", \"IMPRESSÃO GLOBAL\", \"INTENÇÃO DE COMPRA\"]\n",
    "df679.columns = [\"rr\", \"PROVADORES\", \"COR\", \"AROMA\", \"SABOR\", \"TEXTURA\", \"IMPRESSÃO GLOBAL\", \"INTENÇÃO DE COMPRA\"]"
   ]
  },
  {
   "cell_type": "code",
   "execution_count": 7,
   "id": "efe8217c",
   "metadata": {},
   "outputs": [],
   "source": [
    "df365 = df365.drop( index = 0, columns= [\"rr\",\"PROVADORES\"])\n",
    "df679 = df679.drop( index = 0, columns= [\"rr\", \"PROVADORES\"])"
   ]
  },
  {
   "cell_type": "code",
   "execution_count": 8,
   "id": "5908eb66",
   "metadata": {},
   "outputs": [],
   "source": [
    "df365 = df365[0:100]\n",
    "df679 = df679[0:100]"
   ]
  },
  {
   "cell_type": "code",
   "execution_count": 9,
   "id": "3559653c",
   "metadata": {},
   "outputs": [
    {
     "data": {
      "text/html": [
       "<div>\n",
       "<style scoped>\n",
       "    .dataframe tbody tr th:only-of-type {\n",
       "        vertical-align: middle;\n",
       "    }\n",
       "\n",
       "    .dataframe tbody tr th {\n",
       "        vertical-align: top;\n",
       "    }\n",
       "\n",
       "    .dataframe thead th {\n",
       "        text-align: right;\n",
       "    }\n",
       "</style>\n",
       "<table border=\"1\" class=\"dataframe\">\n",
       "  <thead>\n",
       "    <tr style=\"text-align: right;\">\n",
       "      <th></th>\n",
       "      <th>COR</th>\n",
       "      <th>AROMA</th>\n",
       "      <th>SABOR</th>\n",
       "      <th>TEXTURA</th>\n",
       "      <th>IMPRESSÃO GLOBAL</th>\n",
       "      <th>INTENÇÃO DE COMPRA</th>\n",
       "    </tr>\n",
       "  </thead>\n",
       "  <tbody>\n",
       "    <tr>\n",
       "      <th>1</th>\n",
       "      <td>9</td>\n",
       "      <td>7</td>\n",
       "      <td>5</td>\n",
       "      <td>8</td>\n",
       "      <td>8</td>\n",
       "      <td>3</td>\n",
       "    </tr>\n",
       "    <tr>\n",
       "      <th>2</th>\n",
       "      <td>8</td>\n",
       "      <td>7</td>\n",
       "      <td>9</td>\n",
       "      <td>9</td>\n",
       "      <td>9</td>\n",
       "      <td>5</td>\n",
       "    </tr>\n",
       "    <tr>\n",
       "      <th>3</th>\n",
       "      <td>8</td>\n",
       "      <td>7</td>\n",
       "      <td>8</td>\n",
       "      <td>9</td>\n",
       "      <td>8</td>\n",
       "      <td>4</td>\n",
       "    </tr>\n",
       "    <tr>\n",
       "      <th>4</th>\n",
       "      <td>8</td>\n",
       "      <td>5</td>\n",
       "      <td>7</td>\n",
       "      <td>7</td>\n",
       "      <td>8</td>\n",
       "      <td>3</td>\n",
       "    </tr>\n",
       "    <tr>\n",
       "      <th>5</th>\n",
       "      <td>7</td>\n",
       "      <td>8</td>\n",
       "      <td>8</td>\n",
       "      <td>8</td>\n",
       "      <td>8</td>\n",
       "      <td>3</td>\n",
       "    </tr>\n",
       "  </tbody>\n",
       "</table>\n",
       "</div>"
      ],
      "text/plain": [
       "  COR AROMA SABOR TEXTURA IMPRESSÃO GLOBAL INTENÇÃO DE COMPRA\n",
       "1   9     7     5       8                8                  3\n",
       "2   8     7     9       9                9                  5\n",
       "3   8     7     8       9                8                  4\n",
       "4   8     5     7       7                8                  3\n",
       "5   7     8     8       8                8                  3"
      ]
     },
     "execution_count": 9,
     "metadata": {},
     "output_type": "execute_result"
    }
   ],
   "source": [
    "df365.head()"
   ]
  },
  {
   "cell_type": "code",
   "execution_count": 10,
   "id": "e36a7520",
   "metadata": {},
   "outputs": [
    {
     "data": {
      "text/html": [
       "<div>\n",
       "<style scoped>\n",
       "    .dataframe tbody tr th:only-of-type {\n",
       "        vertical-align: middle;\n",
       "    }\n",
       "\n",
       "    .dataframe tbody tr th {\n",
       "        vertical-align: top;\n",
       "    }\n",
       "\n",
       "    .dataframe thead th {\n",
       "        text-align: right;\n",
       "    }\n",
       "</style>\n",
       "<table border=\"1\" class=\"dataframe\">\n",
       "  <thead>\n",
       "    <tr style=\"text-align: right;\">\n",
       "      <th></th>\n",
       "      <th>COR</th>\n",
       "      <th>AROMA</th>\n",
       "      <th>SABOR</th>\n",
       "      <th>TEXTURA</th>\n",
       "      <th>IMPRESSÃO GLOBAL</th>\n",
       "      <th>INTENÇÃO DE COMPRA</th>\n",
       "    </tr>\n",
       "  </thead>\n",
       "  <tbody>\n",
       "    <tr>\n",
       "      <th>1</th>\n",
       "      <td>9</td>\n",
       "      <td>6</td>\n",
       "      <td>5</td>\n",
       "      <td>7</td>\n",
       "      <td>8</td>\n",
       "      <td>3</td>\n",
       "    </tr>\n",
       "    <tr>\n",
       "      <th>2</th>\n",
       "      <td>7</td>\n",
       "      <td>7</td>\n",
       "      <td>8</td>\n",
       "      <td>8</td>\n",
       "      <td>9</td>\n",
       "      <td>5</td>\n",
       "    </tr>\n",
       "    <tr>\n",
       "      <th>3</th>\n",
       "      <td>8</td>\n",
       "      <td>7</td>\n",
       "      <td>7</td>\n",
       "      <td>9</td>\n",
       "      <td>7</td>\n",
       "      <td>4</td>\n",
       "    </tr>\n",
       "    <tr>\n",
       "      <th>4</th>\n",
       "      <td>8</td>\n",
       "      <td>5</td>\n",
       "      <td>6</td>\n",
       "      <td>7</td>\n",
       "      <td>7</td>\n",
       "      <td>3</td>\n",
       "    </tr>\n",
       "    <tr>\n",
       "      <th>5</th>\n",
       "      <td>7</td>\n",
       "      <td>8</td>\n",
       "      <td>8</td>\n",
       "      <td>8</td>\n",
       "      <td>8</td>\n",
       "      <td>3</td>\n",
       "    </tr>\n",
       "  </tbody>\n",
       "</table>\n",
       "</div>"
      ],
      "text/plain": [
       "  COR AROMA SABOR TEXTURA IMPRESSÃO GLOBAL INTENÇÃO DE COMPRA\n",
       "1   9     6     5       7                8                  3\n",
       "2   7     7     8       8                9                  5\n",
       "3   8     7     7       9                7                  4\n",
       "4   8     5     6       7                7                  3\n",
       "5   7     8     8       8                8                  3"
      ]
     },
     "execution_count": 10,
     "metadata": {},
     "output_type": "execute_result"
    }
   ],
   "source": [
    "df679.head()"
   ]
  },
  {
   "cell_type": "code",
   "execution_count": 11,
   "id": "fb5b6581",
   "metadata": {},
   "outputs": [
    {
     "name": "stdout",
     "output_type": "stream",
     "text": [
      "<class 'pandas.core.frame.DataFrame'>\n",
      "RangeIndex: 100 entries, 1 to 100\n",
      "Data columns (total 6 columns):\n",
      " #   Column              Non-Null Count  Dtype \n",
      "---  ------              --------------  ----- \n",
      " 0   COR                 100 non-null    object\n",
      " 1   AROMA               100 non-null    object\n",
      " 2   SABOR               100 non-null    object\n",
      " 3   TEXTURA             100 non-null    object\n",
      " 4   IMPRESSÃO GLOBAL    100 non-null    object\n",
      " 5   INTENÇÃO DE COMPRA  100 non-null    object\n",
      "dtypes: object(6)\n",
      "memory usage: 4.8+ KB\n"
     ]
    }
   ],
   "source": [
    "df365.info()"
   ]
  },
  {
   "cell_type": "code",
   "execution_count": 12,
   "id": "f850412f",
   "metadata": {},
   "outputs": [
    {
     "name": "stdout",
     "output_type": "stream",
     "text": [
      "<class 'pandas.core.frame.DataFrame'>\n",
      "RangeIndex: 100 entries, 1 to 100\n",
      "Data columns (total 6 columns):\n",
      " #   Column              Non-Null Count  Dtype \n",
      "---  ------              --------------  ----- \n",
      " 0   COR                 100 non-null    object\n",
      " 1   AROMA               100 non-null    object\n",
      " 2   SABOR               100 non-null    object\n",
      " 3   TEXTURA             100 non-null    object\n",
      " 4   IMPRESSÃO GLOBAL    100 non-null    object\n",
      " 5   INTENÇÃO DE COMPRA  100 non-null    object\n",
      "dtypes: object(6)\n",
      "memory usage: 4.8+ KB\n"
     ]
    }
   ],
   "source": [
    "df679.info()"
   ]
  },
  {
   "cell_type": "code",
   "execution_count": 13,
   "id": "b11947e9",
   "metadata": {},
   "outputs": [
    {
     "data": {
      "text/plain": [
       "((100, 6), (100, 6))"
      ]
     },
     "execution_count": 13,
     "metadata": {},
     "output_type": "execute_result"
    }
   ],
   "source": [
    "df679.shape, df365.shape"
   ]
  },
  {
   "cell_type": "markdown",
   "id": "50d64fbc",
   "metadata": {},
   "source": [
    "# Modelagem"
   ]
  },
  {
   "cell_type": "markdown",
   "id": "3bd7faac",
   "metadata": {},
   "source": [
    "Nesse ponto vamos selecionar as variáveis e selecionar os modelos de avaliação  que serão. <br>\n",
    "- Analise de variância(ANOVA)\n",
    "- Comparativo de médias\n"
   ]
  },
  {
   "cell_type": "markdown",
   "id": "657f0899",
   "metadata": {},
   "source": [
    "## Analise de variância"
   ]
  },
  {
   "cell_type": "markdown",
   "id": "2fa91821",
   "metadata": {},
   "source": [
    "Para realizar a ANOVA precisamos definir alguns critérios que serão avaliados no final da analise:\n",
    " - As amostras possuem os atributos iguais entre si.\n",
    " - Pelo menos uma amostra possui um atributo diferente"
   ]
  },
  {
   "cell_type": "code",
   "execution_count": 16,
   "id": "d698bb95",
   "metadata": {},
   "outputs": [
    {
     "data": {
      "text/plain": [
       "COR                   1.421818\n",
       "AROMA                 2.224646\n",
       "SABOR                 1.795859\n",
       "TEXTURA               0.936869\n",
       "IMPRESSÃO GLOBAL      1.309495\n",
       "INTENÇÃO DE COMPRA    0.462222\n",
       "dtype: float64"
      ]
     },
     "execution_count": 16,
     "metadata": {},
     "output_type": "execute_result"
    }
   ],
   "source": [
    "df365.var()"
   ]
  },
  {
   "cell_type": "code",
   "execution_count": 17,
   "id": "35f00d9d",
   "metadata": {},
   "outputs": [
    {
     "data": {
      "text/plain": [
       "COR                   1.087980\n",
       "AROMA                 2.141818\n",
       "SABOR                 2.191919\n",
       "TEXTURA               0.959495\n",
       "IMPRESSÃO GLOBAL      1.401515\n",
       "INTENÇÃO DE COMPRA    0.462222\n",
       "dtype: float64"
      ]
     },
     "execution_count": 17,
     "metadata": {},
     "output_type": "execute_result"
    }
   ],
   "source": [
    "df679.var()"
   ]
  },
  {
   "cell_type": "code",
   "execution_count": 18,
   "id": "d8b6a1a3",
   "metadata": {},
   "outputs": [],
   "source": [
    "var679 = list()\n",
    "var679 = [round(df679.var()[1],2), \n",
    "          round(df679.var()[2],2), \n",
    "          round(df679.var()[3],2), \n",
    "          round(df679.var()[4],2), \n",
    "          round(df679.var()[5],2)]\n",
    "\n",
    "var365 = list()\n",
    "var365 = [round(df365.var()[1],2), \n",
    "          round(df365.var()[2], 2), \n",
    "          round(df365.var()[3],2), \n",
    "          round(df365.var()[4],2), \n",
    "          round(df365.var()[5],2)]"
   ]
  },
  {
   "cell_type": "code",
   "execution_count": 19,
   "id": "c0e8bd40",
   "metadata": {},
   "outputs": [
    {
     "data": {
      "text/plain": [
       "7    30\n",
       "8    26\n",
       "6    19\n",
       "9    16\n",
       "5     4\n",
       "2     3\n",
       "4     2\n",
       "Name: SABOR, dtype: int64"
      ]
     },
     "execution_count": 19,
     "metadata": {},
     "output_type": "execute_result"
    }
   ],
   "source": [
    "df679[\"SABOR\"].value_counts()"
   ]
  },
  {
   "cell_type": "code",
   "execution_count": 20,
   "id": "876a2ef2",
   "metadata": {},
   "outputs": [
    {
     "data": {
      "text/plain": [
       "8    46\n",
       "7    30\n",
       "9    16\n",
       "6     4\n",
       "5     3\n",
       "4     1\n",
       "Name: TEXTURA, dtype: int64"
      ]
     },
     "execution_count": 20,
     "metadata": {},
     "output_type": "execute_result"
    }
   ],
   "source": [
    "df365[\"TEXTURA\"].value_counts()"
   ]
  },
  {
   "cell_type": "code",
   "execution_count": 21,
   "id": "06e85d1a",
   "metadata": {},
   "outputs": [],
   "source": [
    "categories = [\"COR\", \"AROMA\", \"SABOR\",\"TEXTURA\", \"IMPRESSÃO GLOBAL\"]"
   ]
  },
  {
   "cell_type": "markdown",
   "id": "3c58c28c",
   "metadata": {},
   "source": [
    "365 = VERDE, 679 = VERMELHO"
   ]
  },
  {
   "cell_type": "code",
   "execution_count": 22,
   "id": "ea252554",
   "metadata": {},
   "outputs": [
    {
     "data": {
      "image/png": "[encoded data removed]",
      "text/plain": [
       "<Figure size 1500x500 with 1 Axes>"
      ]
     },
     "metadata": {},
     "output_type": "display_data"
    }
   ],
   "source": [
    "fig, ax = plt.subplots(figsize=[15,5])\n",
    "\n",
    "v = ax.bar(categories, var365, width=0.5, color=\"r\")\n",
    "#ax.bar(categories, var365, width=0.5, color=\"r\")\n",
    "ax.set_xlabel(\"ATRIBUTOS\")\n",
    "ax.set_ylabel(\"Variação de frequências\")\n",
    "ax.set_title(\"ANOVA Produto 365\")\n",
    "ax.bar_label(v)\n",
    "plt.show()"
   ]
  },
  {
   "cell_type": "code",
   "execution_count": 23,
   "id": "cf49f196",
   "metadata": {},
   "outputs": [
    {
     "data": {
      "image/png": "[encoded data removed]",
      "text/plain": [
       "<Figure size 1500x500 with 1 Axes>"
      ]
     },
     "metadata": {},
     "output_type": "display_data"
    }
   ],
   "source": [
    "fig, ax = plt.subplots(figsize=[15,5])\n",
    "\n",
    "v = ax.bar(categories, var679, width=0.5, color=\"g\")\n",
    "#ax.bar(categories, var679, width=0.5, color=\"g\")\n",
    "ax.set_xlabel(\"ATRIBUTOS\")\n",
    "ax.set_ylabel(\"Variação de frequências\")\n",
    "ax.set_title(\"ANOVA Produto 679\")\n",
    "ax.bar_label(v)\n",
    "plt.show()"
   ]
  },
  {
   "cell_type": "code",
   "execution_count": 24,
   "id": "bd29959f",
   "metadata": {},
   "outputs": [
    {
     "data": {
      "image/png": "[encoded data removed]",
      "text/plain": [
       "<Figure size 1500x500 with 1 Axes>"
      ]
     },
     "metadata": {},
     "output_type": "display_data"
    }
   ],
   "source": [
    "widht = 0.25\n",
    "x = np.arange(5)\n",
    "fig, ax = plt.subplots(figsize=[15,5])\n",
    "\n",
    "\n",
    "\n",
    "p = ax.bar(x-0.16, var365, width=0.3, color=\"r\")\n",
    "v = ax.bar(x+0.16, var679, width=0.3, color=\"g\")\n",
    "ax.bar_label(p)\n",
    "ax.bar_label(v)\n",
    "ax.set_title('Analise de Variância')\n",
    "plt.ylabel(\"NOTAS\")\n",
    "plt.xlabel('ATRIBUTOS')\n",
    "plt.legend(['365', \"679\"])\n",
    "\n",
    "plt.xticks(x, [\"COR\",\"AROMA\", 'SABOR', \"TEXTURA\", \"IMPRESSÃO GLOBAL\" ])\n",
    "plt.yticks([n for n in range(0,4)])\n",
    "plt.show()"
   ]
  },
  {
   "cell_type": "markdown",
   "id": "c4f26faf",
   "metadata": {},
   "source": [
    "### Teste A/B Variância"
   ]
  },
  {
   "cell_type": "markdown",
   "id": "80c093bb",
   "metadata": {},
   "source": [
    "Esse teste A/B será feito para ver diferença significativa entre a variância dos valores, para esse caso, vamos levar em conta valores acima de 0.05 como uma difereça significativa, e os abaixo como uma diferença menor relevante."
   ]
  },
  {
   "cell_type": "code",
   "execution_count": 25,
   "id": "894047f8",
   "metadata": {},
   "outputs": [],
   "source": [
    "ab_test_v = list()\n",
    "for i in range(len(var365)):\n",
    "    ab_test_v.append(round(1 - var365[i] / var679[i], 2))"
   ]
  },
  {
   "cell_type": "code",
   "execution_count": 26,
   "id": "b53bfd5b",
   "metadata": {},
   "outputs": [
    {
     "data": {
      "text/plain": [
       "[-0.04, 0.18, 0.02, 0.06, 0.0]"
      ]
     },
     "execution_count": 26,
     "metadata": {},
     "output_type": "execute_result"
    }
   ],
   "source": [
    "ab_test_v"
   ]
  },
  {
   "cell_type": "code",
   "execution_count": 27,
   "id": "df5cbb74",
   "metadata": {},
   "outputs": [
    {
     "data": {
      "text/plain": [
       "['COR', 'AROMA', 'SABOR', 'TEXTURA', 'IMPRESSÃO GLOBAL']"
      ]
     },
     "execution_count": 27,
     "metadata": {},
     "output_type": "execute_result"
    }
   ],
   "source": [
    "categories"
   ]
  },
  {
   "cell_type": "code",
   "execution_count": 28,
   "id": "b11a3b0e",
   "metadata": {},
   "outputs": [],
   "source": [
    "AB_test_v = pd.DataFrame({\"ATRIBUTOS\": categories, \"A/B\": ab_test_v})"
   ]
  },
  {
   "cell_type": "code",
   "execution_count": 29,
   "id": "bd245056",
   "metadata": {},
   "outputs": [],
   "source": [
    "AB_test_v[\"A/B\"].where(AB_test_v[\"A/B\"] >=0, AB_test_v[\"A/B\"] * (-1), inplace=True)"
   ]
  },
  {
   "cell_type": "code",
   "execution_count": 30,
   "id": "c096a268",
   "metadata": {},
   "outputs": [
    {
     "data": {
      "text/html": [
       "<div>\n",
       "<style scoped>\n",
       "    .dataframe tbody tr th:only-of-type {\n",
       "        vertical-align: middle;\n",
       "    }\n",
       "\n",
       "    .dataframe tbody tr th {\n",
       "        vertical-align: top;\n",
       "    }\n",
       "\n",
       "    .dataframe thead th {\n",
       "        text-align: right;\n",
       "    }\n",
       "</style>\n",
       "<table border=\"1\" class=\"dataframe\">\n",
       "  <thead>\n",
       "    <tr style=\"text-align: right;\">\n",
       "      <th></th>\n",
       "      <th>ATRIBUTOS</th>\n",
       "      <th>A/B</th>\n",
       "    </tr>\n",
       "  </thead>\n",
       "  <tbody>\n",
       "    <tr>\n",
       "      <th>0</th>\n",
       "      <td>COR</td>\n",
       "      <td>0.04</td>\n",
       "    </tr>\n",
       "    <tr>\n",
       "      <th>1</th>\n",
       "      <td>AROMA</td>\n",
       "      <td>0.18</td>\n",
       "    </tr>\n",
       "    <tr>\n",
       "      <th>2</th>\n",
       "      <td>SABOR</td>\n",
       "      <td>0.02</td>\n",
       "    </tr>\n",
       "    <tr>\n",
       "      <th>3</th>\n",
       "      <td>TEXTURA</td>\n",
       "      <td>0.06</td>\n",
       "    </tr>\n",
       "    <tr>\n",
       "      <th>4</th>\n",
       "      <td>IMPRESSÃO GLOBAL</td>\n",
       "      <td>0.00</td>\n",
       "    </tr>\n",
       "  </tbody>\n",
       "</table>\n",
       "</div>"
      ],
      "text/plain": [
       "          ATRIBUTOS   A/B\n",
       "0               COR  0.04\n",
       "1             AROMA  0.18\n",
       "2             SABOR  0.02\n",
       "3           TEXTURA  0.06\n",
       "4  IMPRESSÃO GLOBAL  0.00"
      ]
     },
     "execution_count": 30,
     "metadata": {},
     "output_type": "execute_result"
    }
   ],
   "source": [
    "AB_test_v"
   ]
  },
  {
   "cell_type": "code",
   "execution_count": 49,
   "id": "117e65cd",
   "metadata": {},
   "outputs": [
    {
     "data": {
      "text/plain": [
       "Text(0.5, 0, 'ATRIBUTOS')"
      ]
     },
     "execution_count": 49,
     "metadata": {},
     "output_type": "execute_result"
    },
    {
     "data": {
      "image/png": "[encoded data removed]",
      "text/plain": [
       "<Figure size 640x480 with 1 Axes>"
      ]
     },
     "metadata": {},
     "output_type": "display_data"
    }
   ],
   "source": [
    "fig, ax = plt.subplots()\n",
    "\n",
    "ax.scatter(categories, AB_test_v[\"A/B\"], color='black')\n",
    "ax.set(ylim=(0,0.2))\n",
    "ax.axhline(y=0.5, color='r')\n",
    "ax.set(title=\"Teste A/B Variância\")\n",
    "ax.plot(categories, [0.05] * 5, color=\"r\")\n",
    "plt.ylabel(\"365 / 769\")\n",
    "plt.xlabel('ATRIBUTOS')"
   ]
  },
  {
   "cell_type": "markdown",
   "id": "fdae6ae7",
   "metadata": {},
   "source": [
    "## Comparativo de médias"
   ]
  },
  {
   "cell_type": "markdown",
   "id": "8e266e3c",
   "metadata": {},
   "source": [
    "Esse ponto visa somente analisar a média aritmética dos atributos. <br>\n",
    "**Media Aritmética** <br>\n",
    "A média aritmética é a soma dos valores dados aos atributos dividida pela quantidade de provadores.\n"
   ]
  },
  {
   "cell_type": "code",
   "execution_count": 15,
   "id": "022a491c",
   "metadata": {},
   "outputs": [
    {
     "data": {
      "text/plain": [
       "COR                   7.73\n",
       "AROMA                 6.14\n",
       "SABOR                 7.10\n",
       "TEXTURA               7.51\n",
       "IMPRESSÃO GLOBAL      7.35\n",
       "INTENÇÃO DE COMPRA    4.32\n",
       "dtype: float64"
      ]
     },
     "execution_count": 15,
     "metadata": {},
     "output_type": "execute_result"
    }
   ],
   "source": [
    "df679.mean()"
   ]
  },
  {
   "cell_type": "code",
   "execution_count": 14,
   "id": "b4f26e2f",
   "metadata": {
    "scrolled": true
   },
   "outputs": [
    {
     "data": {
      "text/plain": [
       "COR                   7.82\n",
       "AROMA                 6.24\n",
       "SABOR                 7.89\n",
       "TEXTURA               7.65\n",
       "IMPRESSÃO GLOBAL      8.06\n",
       "INTENÇÃO DE COMPRA    4.32\n",
       "dtype: float64"
      ]
     },
     "execution_count": 14,
     "metadata": {},
     "output_type": "execute_result"
    }
   ],
   "source": [
    "df365.mean()"
   ]
  },
  {
   "cell_type": "code",
   "execution_count": 32,
   "id": "eba0ca38",
   "metadata": {},
   "outputs": [
    {
     "data": {
      "text/plain": [
       "([6.14, 7.1, 7.51, 7.35, 4.32], [6.24, 7.89, 7.65, 8.06, 4.32])"
      ]
     },
     "execution_count": 32,
     "metadata": {},
     "output_type": "execute_result"
    }
   ],
   "source": [
    "media679 = list()\n",
    "media679 = [df679.mean()[1], df679.mean()[2], df679.mean()[3], df679.mean()[4], df679.mean()[5]]\n",
    "media365 = list()\n",
    "media365 = [df365.mean()[1], df365.mean()[2], df365.mean()[3], df365.mean()[4], df365.mean()[5]]\n",
    "media679, media365"
   ]
  },
  {
   "cell_type": "code",
   "execution_count": 33,
   "id": "b060d0e6",
   "metadata": {},
   "outputs": [
    {
     "data": {
      "image/png": "[encoded data removed]",
      "text/plain": [
       "<Figure size 1500x500 with 1 Axes>"
      ]
     },
     "metadata": {},
     "output_type": "display_data"
    }
   ],
   "source": [
    "fig, ax = plt.subplots(figsize=[15,5])\n",
    "\n",
    "p = ax.bar(categories, media679, width=0.6)\n",
    "v = ax.bar(categories, var679, width=0.1, color=\"pink\")\n",
    "ax.bar(categories, media679, width=0.6, color=\"g\")\n",
    "#ax.bar(categories, var365, width=0.08, color=\"purple\")\n",
    "#ax.plot(categories, var365, color=\"black\")\n",
    "ax.bar_label(p)\n",
    "#ax.bar_label(v)\n",
    "ax.set_xlabel(\"ATRIBUTOS\")\n",
    "ax.set_ylabel(\"NOTAS\")\n",
    "ax.set_title(\"Analise de Média \\n Produto 679\")\n",
    "plt.show()"
   ]
  },
  {
   "cell_type": "code",
   "execution_count": 34,
   "id": "ff7761b5",
   "metadata": {},
   "outputs": [
    {
     "data": {
      "image/png": "[encoded data removed]",
      "text/plain": [
       "<Figure size 1500x500 with 1 Axes>"
      ]
     },
     "metadata": {},
     "output_type": "display_data"
    }
   ],
   "source": [
    "fig, ax = plt.subplots(figsize=[15,5])\n",
    "\n",
    "p = ax.bar(categories, media365, width=0.6)\n",
    "v = ax.bar(categories, var365, width=0.1, color=\"pink\")\n",
    "ax.bar(categories, media365, width=0.6, color=\"r\")\n",
    "#ax.bar(categories, var365, width=0.08, color=\"purple\")\n",
    "#ax.plot(categories, var365, color=\"black\")\n",
    "ax.bar_label(p)\n",
    "#ax.bar_label(v)\n",
    "ax.set_xlabel(\"ATRIBUTOS\")\n",
    "ax.set_ylabel(\"NOTAS\")\n",
    "ax.set_title(\"Analise de Média \\n Produto 365\")\n",
    "plt.show()"
   ]
  },
  {
   "cell_type": "code",
   "execution_count": 35,
   "id": "6073d410",
   "metadata": {},
   "outputs": [
    {
     "data": {
      "image/png": "[encoded data removed]",
      "text/plain": [
       "<Figure size 1500x500 with 1 Axes>"
      ]
     },
     "metadata": {},
     "output_type": "display_data"
    }
   ],
   "source": [
    "widht = 0.25\n",
    "x = np.arange(5)\n",
    "fig, ax = plt.subplots(figsize=[15,5])\n",
    "\n",
    "\n",
    "\n",
    "p = ax.bar(x-0.16, media365, width=0.3, color=\"r\")\n",
    "v = ax.bar(x+0.16, media679, width=0.3, color=\"g\")\n",
    "ax.bar_label(p)\n",
    "ax.bar_label(v)\n",
    "ax.set_title('Comparativo de médias')\n",
    "plt.ylabel(\"NOTAS\")\n",
    "plt.xlabel('ATRIBUTOS')\n",
    "plt.legend(['365', \"679\"])\n",
    "\n",
    "plt.xticks(x, [\"COR\",\"AROMA\", 'SABOR', \"TEXTURA\", \"IMPRESSÃO GLOBAL\" ])\n",
    "plt.yticks([n for n in range(0,11)])\n",
    "plt.show()"
   ]
  },
  {
   "cell_type": "markdown",
   "id": "e777799c",
   "metadata": {},
   "source": [
    "# Optativo"
   ]
  },
  {
   "cell_type": "markdown",
   "id": "159a948d",
   "metadata": {},
   "source": [
    "### Teste A/B Média"
   ]
  },
  {
   "cell_type": "markdown",
   "id": "4f0a91e7",
   "metadata": {},
   "source": [
    "Esse teste A/B será feito para ver diferença significativa entre a variância dos valores, para esse caso, vamos levar em conta valores acima de 0.05 como uma difereça significativa, e os abaixo como uma diferença menor relevante."
   ]
  },
  {
   "cell_type": "code",
   "execution_count": 42,
   "id": "e35dac0e",
   "metadata": {},
   "outputs": [],
   "source": [
    "ab_test_m = list()\n",
    "for i in range(len(var365)):\n",
    "    ab_test_m.append(round(1 - media365[i] / media679[i], 2))"
   ]
  },
  {
   "cell_type": "code",
   "execution_count": 43,
   "id": "1a06715f",
   "metadata": {},
   "outputs": [
    {
     "data": {
      "text/plain": [
       "[-0.02, -0.11, -0.02, -0.1, 0.0]"
      ]
     },
     "execution_count": 43,
     "metadata": {},
     "output_type": "execute_result"
    }
   ],
   "source": [
    "ab_test_m"
   ]
  },
  {
   "cell_type": "code",
   "execution_count": 44,
   "id": "6344069c",
   "metadata": {},
   "outputs": [],
   "source": [
    "AB_test_m = pd.DataFrame({\"ATRIBUTOS\": categories, \"A/B\": ab_test_m})"
   ]
  },
  {
   "cell_type": "code",
   "execution_count": 45,
   "id": "864c6636",
   "metadata": {},
   "outputs": [],
   "source": [
    "AB_test_m[\"A/B\"].where(AB_test_m[\"A/B\"] >=0, AB_test_m[\"A/B\"] * (-1), inplace=True)"
   ]
  },
  {
   "cell_type": "code",
   "execution_count": 46,
   "id": "4af755ee",
   "metadata": {},
   "outputs": [
    {
     "data": {
      "text/html": [
       "<div>\n",
       "<style scoped>\n",
       "    .dataframe tbody tr th:only-of-type {\n",
       "        vertical-align: middle;\n",
       "    }\n",
       "\n",
       "    .dataframe tbody tr th {\n",
       "        vertical-align: top;\n",
       "    }\n",
       "\n",
       "    .dataframe thead th {\n",
       "        text-align: right;\n",
       "    }\n",
       "</style>\n",
       "<table border=\"1\" class=\"dataframe\">\n",
       "  <thead>\n",
       "    <tr style=\"text-align: right;\">\n",
       "      <th></th>\n",
       "      <th>ATRIBUTOS</th>\n",
       "      <th>A/B</th>\n",
       "    </tr>\n",
       "  </thead>\n",
       "  <tbody>\n",
       "    <tr>\n",
       "      <th>0</th>\n",
       "      <td>COR</td>\n",
       "      <td>0.02</td>\n",
       "    </tr>\n",
       "    <tr>\n",
       "      <th>1</th>\n",
       "      <td>AROMA</td>\n",
       "      <td>0.11</td>\n",
       "    </tr>\n",
       "    <tr>\n",
       "      <th>2</th>\n",
       "      <td>SABOR</td>\n",
       "      <td>0.02</td>\n",
       "    </tr>\n",
       "    <tr>\n",
       "      <th>3</th>\n",
       "      <td>TEXTURA</td>\n",
       "      <td>0.10</td>\n",
       "    </tr>\n",
       "    <tr>\n",
       "      <th>4</th>\n",
       "      <td>IMPRESSÃO GLOBAL</td>\n",
       "      <td>0.00</td>\n",
       "    </tr>\n",
       "  </tbody>\n",
       "</table>\n",
       "</div>"
      ],
      "text/plain": [
       "          ATRIBUTOS   A/B\n",
       "0               COR  0.02\n",
       "1             AROMA  0.11\n",
       "2             SABOR  0.02\n",
       "3           TEXTURA  0.10\n",
       "4  IMPRESSÃO GLOBAL  0.00"
      ]
     },
     "execution_count": 46,
     "metadata": {},
     "output_type": "execute_result"
    }
   ],
   "source": [
    "AB_test_m"
   ]
  },
  {
   "cell_type": "code",
   "execution_count": 51,
   "id": "131b05e6",
   "metadata": {},
   "outputs": [
    {
     "data": {
      "text/plain": [
       "Text(0.5, 0, 'ATRIBUTOS')"
      ]
     },
     "execution_count": 51,
     "metadata": {},
     "output_type": "execute_result"
    },
    {
     "data": {
      "image/png": "[encoded data removed]",
      "text/plain": [
       "<Figure size 640x480 with 1 Axes>"
      ]
     },
     "metadata": {},
     "output_type": "display_data"
    }
   ],
   "source": [
    "fig, ax = plt.subplots()\n",
    "\n",
    "ax.scatter(categories, AB_test_m[\"A/B\"], color='black')\n",
    "ax.set(ylim=(0,0.2))\n",
    "ax.axhline(y=0.5, color='r')\n",
    "ax.set(title=\"Teste A/B Média\")\n",
    "ax.plot(categories, [0.05] * 5, color=\"r\")\n",
    "plt.ylabel(\"365 / 769\")\n",
    "plt.xlabel('ATRIBUTOS')"
   ]
  },
  {
   "cell_type": "markdown",
   "id": "8df61cb5",
   "metadata": {},
   "source": [
    "# Avaliação dos resultados"
   ]
  },
  {
   "cell_type": "markdown",
   "id": "56dace5c",
   "metadata": {},
   "source": [
    "Cabe uma analise sobre os casos de Aroma e Textura que mostraram no teste A / B da analise de variância acima um valor acima de 0.05 que foi o valor da diferença mínima significativa"
   ]
  },
  {
   "cell_type": "code",
   "execution_count": null,
   "id": "e5317e7e",
   "metadata": {},
   "outputs": [],
   "source": []
  }
 ],
 "metadata": {
  "kernelspec": {
   "display_name": "Python 3 (ipykernel)",
   "language": "python",
   "name": "python3"
  },
  "language_info": {
   "codemirror_mode": {
    "name": "ipython",
    "version": 3
   },
   "file_extension": ".py",
   "mimetype": "text/x-python",
   "name": "python",
   "nbconvert_exporter": "python",
   "pygments_lexer": "ipython3",
   "version": "3.9.16"
  }
 },
 "nbformat": 4,
 "nbformat_minor": 5
}
