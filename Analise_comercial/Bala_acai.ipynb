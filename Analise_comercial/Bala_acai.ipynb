{
 "cells": [
  {
   "cell_type": "markdown",
   "id": "4b2d1e4c",
   "metadata": {},
   "source": [
    "# Entendimento do problema"
   ]
  },
  {
   "cell_type": "markdown",
   "id": "92175aaf",
   "metadata": {},
   "source": [
    "Se trata de um tratamento de dados para ajudar a melhor vizualização de uma coleta de avaliações de determinadas amostras. <br>\n",
    "A coleta foi realizada por uma discente do curso de engenharia de alimentos, com o objetivo de ver e etender a os resultados de sua amostra."
   ]
  },
  {
   "cell_type": "markdown",
   "id": "5d41e89b",
   "metadata": {},
   "source": [
    "# Entendendo os dados\n",
    "Os dados foram anotados em duas abas de uma planilha do excel com as seguintes informações\n",
    "\n",
    "\n",
    "| Variable Name|     Description    | Tipo  |\n",
    "| --------- |:---------------------:| -----:|\n",
    "| Provadores| código do provador    |inteiro|\n",
    "|     Cor   |   0 a 9               |inteiro|\n",
    "| Aroma     |     0 a 9             |inteiro|\n",
    "|  Sabor    |  0 a 9                |inteiro|\n",
    "| Textura   |     0 a 9             |inteiro|\n",
    "|Impressão Global|   0 a 9          |inteiro|\n",
    "|Inteção de compra| 1 a 5           |inteiro|"
   ]
  },
  {
   "cell_type": "markdown",
   "id": "9516cca0",
   "metadata": {},
   "source": [
    "## Carregando pacotes"
   ]
  },
  {
   "cell_type": "code",
   "execution_count": 1,
   "id": "09cdcbff",
   "metadata": {},
   "outputs": [],
   "source": [
    "import pandas as pd\n",
    "import numpy as np\n",
    "import matplotlib.pyplot as plt\n",
    "from scipy.stats import normaltest\n",
    "import seaborn as sns"
   ]
  },
  {
   "cell_type": "markdown",
   "id": "ed393ee0",
   "metadata": {},
   "source": [
    "## Carregando Dados"
   ]
  },
  {
   "cell_type": "code",
   "execution_count": 2,
   "id": "2ce91ed5",
   "metadata": {},
   "outputs": [],
   "source": [
    "df365 = pd.read_excel(\"Pasta1.xlsx\", \"365\")\n",
    "df679 = pd.read_excel(\"Pasta1.xlsx\", \"679\")"
   ]
  },
  {
   "cell_type": "code",
   "execution_count": 3,
   "id": "e15eb300",
   "metadata": {},
   "outputs": [
    {
     "data": {
      "text/html": [
       "<div>\n",
       "<style scoped>\n",
       "    .dataframe tbody tr th:only-of-type {\n",
       "        vertical-align: middle;\n",
       "    }\n",
       "\n",
       "    .dataframe tbody tr th {\n",
       "        vertical-align: top;\n",
       "    }\n",
       "\n",
       "    .dataframe thead th {\n",
       "        text-align: right;\n",
       "    }\n",
       "</style>\n",
       "<table border=\"1\" class=\"dataframe\">\n",
       "  <thead>\n",
       "    <tr style=\"text-align: right;\">\n",
       "      <th></th>\n",
       "      <th>Unnamed: 0</th>\n",
       "      <th>Unnamed: 1</th>\n",
       "      <th>Unnamed: 2</th>\n",
       "      <th>Unnamed: 3</th>\n",
       "      <th>Unnamed: 4</th>\n",
       "      <th>Unnamed: 5</th>\n",
       "      <th></th>\n",
       "      <th>Unnamed: 7</th>\n",
       "      <th>Unnamed: 8</th>\n",
       "      <th>Unnamed: 9</th>\n",
       "    </tr>\n",
       "  </thead>\n",
       "  <tbody>\n",
       "    <tr>\n",
       "      <th>0</th>\n",
       "      <td>NaN</td>\n",
       "      <td>Provadores</td>\n",
       "      <td>Cor</td>\n",
       "      <td>Aroma</td>\n",
       "      <td>Sabor</td>\n",
       "      <td>Textura</td>\n",
       "      <td>Impressão global</td>\n",
       "      <td>Intenção de compra</td>\n",
       "      <td>Idade</td>\n",
       "      <td>Sexo</td>\n",
       "    </tr>\n",
       "    <tr>\n",
       "      <th>1</th>\n",
       "      <td>NaN</td>\n",
       "      <td>1</td>\n",
       "      <td>9</td>\n",
       "      <td>7</td>\n",
       "      <td>5</td>\n",
       "      <td>8</td>\n",
       "      <td>8</td>\n",
       "      <td>3</td>\n",
       "      <td>20</td>\n",
       "      <td>F</td>\n",
       "    </tr>\n",
       "    <tr>\n",
       "      <th>2</th>\n",
       "      <td>NaN</td>\n",
       "      <td>2</td>\n",
       "      <td>8</td>\n",
       "      <td>7</td>\n",
       "      <td>9</td>\n",
       "      <td>9</td>\n",
       "      <td>9</td>\n",
       "      <td>5</td>\n",
       "      <td>41</td>\n",
       "      <td>F</td>\n",
       "    </tr>\n",
       "    <tr>\n",
       "      <th>3</th>\n",
       "      <td>NaN</td>\n",
       "      <td>3</td>\n",
       "      <td>8</td>\n",
       "      <td>7</td>\n",
       "      <td>8</td>\n",
       "      <td>9</td>\n",
       "      <td>8</td>\n",
       "      <td>4</td>\n",
       "      <td>33</td>\n",
       "      <td>F</td>\n",
       "    </tr>\n",
       "    <tr>\n",
       "      <th>4</th>\n",
       "      <td>NaN</td>\n",
       "      <td>4</td>\n",
       "      <td>8</td>\n",
       "      <td>5</td>\n",
       "      <td>7</td>\n",
       "      <td>7</td>\n",
       "      <td>8</td>\n",
       "      <td>3</td>\n",
       "      <td>26</td>\n",
       "      <td>F</td>\n",
       "    </tr>\n",
       "  </tbody>\n",
       "</table>\n",
       "</div>"
      ],
      "text/plain": [
       "   Unnamed: 0  Unnamed: 1 Unnamed: 2 Unnamed: 3 Unnamed: 4 Unnamed: 5  \\\n",
       "0         NaN  Provadores        Cor      Aroma      Sabor    Textura   \n",
       "1         NaN           1          9          7          5          8   \n",
       "2         NaN           2          8          7          9          9   \n",
       "3         NaN           3          8          7          8          9   \n",
       "4         NaN           4          8          5          7          7   \n",
       "\n",
       "                             Unnamed: 7 Unnamed: 8 Unnamed: 9  \n",
       "0  Impressão global  Intenção de compra      Idade       Sexo  \n",
       "1                 8                   3         20          F  \n",
       "2                 9                   5         41          F  \n",
       "3                 8                   4         33          F  \n",
       "4                 8                   3         26          F  "
      ]
     },
     "execution_count": 3,
     "metadata": {},
     "output_type": "execute_result"
    }
   ],
   "source": [
    "df365.head()"
   ]
  },
  {
   "cell_type": "code",
   "execution_count": 4,
   "id": "d113e999",
   "metadata": {},
   "outputs": [
    {
     "data": {
      "text/html": [
       "<div>\n",
       "<style scoped>\n",
       "    .dataframe tbody tr th:only-of-type {\n",
       "        vertical-align: middle;\n",
       "    }\n",
       "\n",
       "    .dataframe tbody tr th {\n",
       "        vertical-align: top;\n",
       "    }\n",
       "\n",
       "    .dataframe thead th {\n",
       "        text-align: right;\n",
       "    }\n",
       "</style>\n",
       "<table border=\"1\" class=\"dataframe\">\n",
       "  <thead>\n",
       "    <tr style=\"text-align: right;\">\n",
       "      <th></th>\n",
       "      <th>Unnamed: 0</th>\n",
       "      <th>Unnamed: 1</th>\n",
       "      <th>Unnamed: 2</th>\n",
       "      <th>Unnamed: 3</th>\n",
       "      <th>Unnamed: 4</th>\n",
       "      <th>Unnamed: 5</th>\n",
       "      <th>Unnamed: 6</th>\n",
       "      <th>Unnamed: 7</th>\n",
       "      <th>Unnamed: 8</th>\n",
       "      <th>Unnamed: 9</th>\n",
       "    </tr>\n",
       "  </thead>\n",
       "  <tbody>\n",
       "    <tr>\n",
       "      <th>0</th>\n",
       "      <td>NaN</td>\n",
       "      <td>Provadores</td>\n",
       "      <td>Cor</td>\n",
       "      <td>Aroma</td>\n",
       "      <td>Sabor</td>\n",
       "      <td>Textura</td>\n",
       "      <td>Impressão global</td>\n",
       "      <td>Intenção de compra</td>\n",
       "      <td>Idade</td>\n",
       "      <td>Sexo</td>\n",
       "    </tr>\n",
       "    <tr>\n",
       "      <th>1</th>\n",
       "      <td>NaN</td>\n",
       "      <td>79</td>\n",
       "      <td>6</td>\n",
       "      <td>6</td>\n",
       "      <td>8</td>\n",
       "      <td>8</td>\n",
       "      <td>7</td>\n",
       "      <td>4</td>\n",
       "      <td>18</td>\n",
       "      <td>F</td>\n",
       "    </tr>\n",
       "    <tr>\n",
       "      <th>2</th>\n",
       "      <td>NaN</td>\n",
       "      <td>31</td>\n",
       "      <td>8</td>\n",
       "      <td>6</td>\n",
       "      <td>7</td>\n",
       "      <td>8</td>\n",
       "      <td>8</td>\n",
       "      <td>5</td>\n",
       "      <td>18</td>\n",
       "      <td>F</td>\n",
       "    </tr>\n",
       "    <tr>\n",
       "      <th>3</th>\n",
       "      <td>NaN</td>\n",
       "      <td>33</td>\n",
       "      <td>6</td>\n",
       "      <td>5</td>\n",
       "      <td>6</td>\n",
       "      <td>8</td>\n",
       "      <td>6</td>\n",
       "      <td>4</td>\n",
       "      <td>18</td>\n",
       "      <td>M</td>\n",
       "    </tr>\n",
       "    <tr>\n",
       "      <th>4</th>\n",
       "      <td>NaN</td>\n",
       "      <td>35</td>\n",
       "      <td>6</td>\n",
       "      <td>5</td>\n",
       "      <td>6</td>\n",
       "      <td>8</td>\n",
       "      <td>6</td>\n",
       "      <td>4</td>\n",
       "      <td>18</td>\n",
       "      <td>M</td>\n",
       "    </tr>\n",
       "  </tbody>\n",
       "</table>\n",
       "</div>"
      ],
      "text/plain": [
       "   Unnamed: 0  Unnamed: 1 Unnamed: 2 Unnamed: 3 Unnamed: 4 Unnamed: 5  \\\n",
       "0         NaN  Provadores        Cor      Aroma      Sabor    Textura   \n",
       "1         NaN          79          6          6          8          8   \n",
       "2         NaN          31          8          6          7          8   \n",
       "3         NaN          33          6          5          6          8   \n",
       "4         NaN          35          6          5          6          8   \n",
       "\n",
       "         Unnamed: 6          Unnamed: 7 Unnamed: 8 Unnamed: 9  \n",
       "0  Impressão global  Intenção de compra      Idade       Sexo  \n",
       "1                 7                   4         18          F  \n",
       "2                 8                   5         18          F  \n",
       "3                 6                   4         18          M  \n",
       "4                 6                   4         18          M  "
      ]
     },
     "execution_count": 4,
     "metadata": {},
     "output_type": "execute_result"
    }
   ],
   "source": [
    " df679.head()"
   ]
  },
  {
   "cell_type": "code",
   "execution_count": 5,
   "id": "29854099",
   "metadata": {},
   "outputs": [
    {
     "data": {
      "text/plain": [
       "((106, 10), (102, 10))"
      ]
     },
     "execution_count": 5,
     "metadata": {},
     "output_type": "execute_result"
    }
   ],
   "source": [
    "df365.shape , df679.shape"
   ]
  },
  {
   "cell_type": "markdown",
   "id": "b32d50c9",
   "metadata": {},
   "source": [
    "Percebesse que os dados estão fora de formato para serem analisados esporadicamente, para isso requer uma limpeza inicial "
   ]
  },
  {
   "cell_type": "markdown",
   "id": "dab38bda",
   "metadata": {},
   "source": [
    "## Preparação dos dados "
   ]
  },
  {
   "cell_type": "code",
   "execution_count": 6,
   "id": "8447fc28",
   "metadata": {},
   "outputs": [],
   "source": [
    "df365.columns = [\"rr\", \"PROVADORES\", \"COR\", \"AROMA\", \"SABOR\", \"TEXTURA\", \"IMPRESSÃO GLOBAL\", \"INTENÇÃO DE COMPRA\",\"IDADE\", \"SEXO\"]\n",
    "df679.columns = [\"rr\", \"PROVADORES\", \"COR\", \"AROMA\", \"SABOR\", \"TEXTURA\", \"IMPRESSÃO GLOBAL\", \"INTENÇÃO DE COMPRA\",\"IDADE\", \"SEXO\"]"
   ]
  },
  {
   "cell_type": "code",
   "execution_count": 7,
   "id": "efe8217c",
   "metadata": {},
   "outputs": [],
   "source": [
    "df365 = df365.drop( index = 0, columns= [\"rr\",\"PROVADORES\"])\n",
    "df679 = df679.drop( index = 0, columns= [\"rr\", \"PROVADORES\"])"
   ]
  },
  {
   "cell_type": "code",
   "execution_count": 8,
   "id": "5908eb66",
   "metadata": {},
   "outputs": [],
   "source": [
    "df365 = df365[0:100]\n",
    "df679 = df679[0:100]"
   ]
  },
  {
   "cell_type": "code",
   "execution_count": 9,
   "id": "3559653c",
   "metadata": {},
   "outputs": [
    {
     "data": {
      "text/html": [
       "<div>\n",
       "<style scoped>\n",
       "    .dataframe tbody tr th:only-of-type {\n",
       "        vertical-align: middle;\n",
       "    }\n",
       "\n",
       "    .dataframe tbody tr th {\n",
       "        vertical-align: top;\n",
       "    }\n",
       "\n",
       "    .dataframe thead th {\n",
       "        text-align: right;\n",
       "    }\n",
       "</style>\n",
       "<table border=\"1\" class=\"dataframe\">\n",
       "  <thead>\n",
       "    <tr style=\"text-align: right;\">\n",
       "      <th></th>\n",
       "      <th>COR</th>\n",
       "      <th>AROMA</th>\n",
       "      <th>SABOR</th>\n",
       "      <th>TEXTURA</th>\n",
       "      <th>IMPRESSÃO GLOBAL</th>\n",
       "      <th>INTENÇÃO DE COMPRA</th>\n",
       "      <th>IDADE</th>\n",
       "      <th>SEXO</th>\n",
       "    </tr>\n",
       "  </thead>\n",
       "  <tbody>\n",
       "    <tr>\n",
       "      <th>1</th>\n",
       "      <td>9</td>\n",
       "      <td>7</td>\n",
       "      <td>5</td>\n",
       "      <td>8</td>\n",
       "      <td>8</td>\n",
       "      <td>3</td>\n",
       "      <td>20</td>\n",
       "      <td>F</td>\n",
       "    </tr>\n",
       "    <tr>\n",
       "      <th>2</th>\n",
       "      <td>8</td>\n",
       "      <td>7</td>\n",
       "      <td>9</td>\n",
       "      <td>9</td>\n",
       "      <td>9</td>\n",
       "      <td>5</td>\n",
       "      <td>41</td>\n",
       "      <td>F</td>\n",
       "    </tr>\n",
       "    <tr>\n",
       "      <th>3</th>\n",
       "      <td>8</td>\n",
       "      <td>7</td>\n",
       "      <td>8</td>\n",
       "      <td>9</td>\n",
       "      <td>8</td>\n",
       "      <td>4</td>\n",
       "      <td>33</td>\n",
       "      <td>F</td>\n",
       "    </tr>\n",
       "    <tr>\n",
       "      <th>4</th>\n",
       "      <td>8</td>\n",
       "      <td>5</td>\n",
       "      <td>7</td>\n",
       "      <td>7</td>\n",
       "      <td>8</td>\n",
       "      <td>3</td>\n",
       "      <td>26</td>\n",
       "      <td>F</td>\n",
       "    </tr>\n",
       "    <tr>\n",
       "      <th>5</th>\n",
       "      <td>7</td>\n",
       "      <td>8</td>\n",
       "      <td>8</td>\n",
       "      <td>8</td>\n",
       "      <td>8</td>\n",
       "      <td>3</td>\n",
       "      <td>24</td>\n",
       "      <td>M</td>\n",
       "    </tr>\n",
       "  </tbody>\n",
       "</table>\n",
       "</div>"
      ],
      "text/plain": [
       "  COR AROMA SABOR TEXTURA IMPRESSÃO GLOBAL INTENÇÃO DE COMPRA IDADE SEXO\n",
       "1   9     7     5       8                8                  3    20    F\n",
       "2   8     7     9       9                9                  5    41    F\n",
       "3   8     7     8       9                8                  4    33    F\n",
       "4   8     5     7       7                8                  3    26    F\n",
       "5   7     8     8       8                8                  3    24    M"
      ]
     },
     "execution_count": 9,
     "metadata": {},
     "output_type": "execute_result"
    }
   ],
   "source": [
    "df365.head()"
   ]
  },
  {
   "cell_type": "code",
   "execution_count": 10,
   "id": "e36a7520",
   "metadata": {},
   "outputs": [
    {
     "data": {
      "text/html": [
       "<div>\n",
       "<style scoped>\n",
       "    .dataframe tbody tr th:only-of-type {\n",
       "        vertical-align: middle;\n",
       "    }\n",
       "\n",
       "    .dataframe tbody tr th {\n",
       "        vertical-align: top;\n",
       "    }\n",
       "\n",
       "    .dataframe thead th {\n",
       "        text-align: right;\n",
       "    }\n",
       "</style>\n",
       "<table border=\"1\" class=\"dataframe\">\n",
       "  <thead>\n",
       "    <tr style=\"text-align: right;\">\n",
       "      <th></th>\n",
       "      <th>COR</th>\n",
       "      <th>AROMA</th>\n",
       "      <th>SABOR</th>\n",
       "      <th>TEXTURA</th>\n",
       "      <th>IMPRESSÃO GLOBAL</th>\n",
       "      <th>INTENÇÃO DE COMPRA</th>\n",
       "      <th>IDADE</th>\n",
       "      <th>SEXO</th>\n",
       "    </tr>\n",
       "  </thead>\n",
       "  <tbody>\n",
       "    <tr>\n",
       "      <th>1</th>\n",
       "      <td>6</td>\n",
       "      <td>6</td>\n",
       "      <td>8</td>\n",
       "      <td>8</td>\n",
       "      <td>7</td>\n",
       "      <td>4</td>\n",
       "      <td>18</td>\n",
       "      <td>F</td>\n",
       "    </tr>\n",
       "    <tr>\n",
       "      <th>2</th>\n",
       "      <td>8</td>\n",
       "      <td>6</td>\n",
       "      <td>7</td>\n",
       "      <td>8</td>\n",
       "      <td>8</td>\n",
       "      <td>5</td>\n",
       "      <td>18</td>\n",
       "      <td>F</td>\n",
       "    </tr>\n",
       "    <tr>\n",
       "      <th>3</th>\n",
       "      <td>6</td>\n",
       "      <td>5</td>\n",
       "      <td>6</td>\n",
       "      <td>8</td>\n",
       "      <td>6</td>\n",
       "      <td>4</td>\n",
       "      <td>18</td>\n",
       "      <td>M</td>\n",
       "    </tr>\n",
       "    <tr>\n",
       "      <th>4</th>\n",
       "      <td>6</td>\n",
       "      <td>5</td>\n",
       "      <td>6</td>\n",
       "      <td>8</td>\n",
       "      <td>6</td>\n",
       "      <td>4</td>\n",
       "      <td>18</td>\n",
       "      <td>M</td>\n",
       "    </tr>\n",
       "    <tr>\n",
       "      <th>5</th>\n",
       "      <td>8</td>\n",
       "      <td>9</td>\n",
       "      <td>9</td>\n",
       "      <td>8</td>\n",
       "      <td>8</td>\n",
       "      <td>4</td>\n",
       "      <td>18</td>\n",
       "      <td>F</td>\n",
       "    </tr>\n",
       "  </tbody>\n",
       "</table>\n",
       "</div>"
      ],
      "text/plain": [
       "  COR AROMA SABOR TEXTURA IMPRESSÃO GLOBAL INTENÇÃO DE COMPRA IDADE SEXO\n",
       "1   6     6     8       8                7                  4    18    F\n",
       "2   8     6     7       8                8                  5    18    F\n",
       "3   6     5     6       8                6                  4    18    M\n",
       "4   6     5     6       8                6                  4    18    M\n",
       "5   8     9     9       8                8                  4    18    F"
      ]
     },
     "execution_count": 10,
     "metadata": {},
     "output_type": "execute_result"
    }
   ],
   "source": [
    "df679.head()"
   ]
  },
  {
   "cell_type": "code",
   "execution_count": 11,
   "id": "fb5b6581",
   "metadata": {},
   "outputs": [
    {
     "name": "stdout",
     "output_type": "stream",
     "text": [
      "<class 'pandas.core.frame.DataFrame'>\n",
      "RangeIndex: 100 entries, 1 to 100\n",
      "Data columns (total 8 columns):\n",
      " #   Column              Non-Null Count  Dtype \n",
      "---  ------              --------------  ----- \n",
      " 0   COR                 100 non-null    object\n",
      " 1   AROMA               100 non-null    object\n",
      " 2   SABOR               100 non-null    object\n",
      " 3   TEXTURA             100 non-null    object\n",
      " 4   IMPRESSÃO GLOBAL    100 non-null    object\n",
      " 5   INTENÇÃO DE COMPRA  100 non-null    object\n",
      " 6   IDADE               100 non-null    object\n",
      " 7   SEXO                100 non-null    object\n",
      "dtypes: object(8)\n",
      "memory usage: 6.4+ KB\n"
     ]
    }
   ],
   "source": [
    "df365.info()"
   ]
  },
  {
   "cell_type": "code",
   "execution_count": 12,
   "id": "f850412f",
   "metadata": {},
   "outputs": [
    {
     "name": "stdout",
     "output_type": "stream",
     "text": [
      "<class 'pandas.core.frame.DataFrame'>\n",
      "RangeIndex: 100 entries, 1 to 100\n",
      "Data columns (total 8 columns):\n",
      " #   Column              Non-Null Count  Dtype \n",
      "---  ------              --------------  ----- \n",
      " 0   COR                 100 non-null    object\n",
      " 1   AROMA               100 non-null    object\n",
      " 2   SABOR               100 non-null    object\n",
      " 3   TEXTURA             100 non-null    object\n",
      " 4   IMPRESSÃO GLOBAL    100 non-null    object\n",
      " 5   INTENÇÃO DE COMPRA  100 non-null    object\n",
      " 6   IDADE               100 non-null    object\n",
      " 7   SEXO                100 non-null    object\n",
      "dtypes: object(8)\n",
      "memory usage: 6.4+ KB\n"
     ]
    }
   ],
   "source": [
    "df679.info()"
   ]
  },
  {
   "cell_type": "code",
   "execution_count": 13,
   "id": "b11947e9",
   "metadata": {},
   "outputs": [
    {
     "data": {
      "text/plain": [
       "((100, 8), (100, 8))"
      ]
     },
     "execution_count": 13,
     "metadata": {},
     "output_type": "execute_result"
    }
   ],
   "source": [
    "df679.shape, df365.shape"
   ]
  },
  {
   "cell_type": "markdown",
   "id": "50d64fbc",
   "metadata": {},
   "source": [
    "# Modelagem"
   ]
  },
  {
   "cell_type": "markdown",
   "id": "3bd7faac",
   "metadata": {},
   "source": [
    "Nesse ponto vamos selecionar as variáveis e selecionar os modelos de avaliação  que serão. <br>\n",
    "- Analise de variância(ANOVA)\n",
    "- Comparativo de médias\n"
   ]
  },
  {
   "cell_type": "markdown",
   "id": "657f0899",
   "metadata": {},
   "source": [
    "## Analise de variância"
   ]
  },
  {
   "cell_type": "markdown",
   "id": "2fa91821",
   "metadata": {},
   "source": [
    "Para realizar a ANOVA precisamos definir alguns critérios que serão avaliados no final da analise:\n",
    " - As amostras possuem os atributos iguais entre si.\n",
    " - Pelo menos uma amostra possui um atributo diferente"
   ]
  },
  {
   "cell_type": "code",
   "execution_count": 14,
   "id": "d698bb95",
   "metadata": {},
   "outputs": [
    {
     "data": {
      "text/plain": [
       "COR                   1.421818\n",
       "AROMA                 2.224646\n",
       "SABOR                 1.795859\n",
       "TEXTURA               0.936869\n",
       "IMPRESSÃO GLOBAL      1.309495\n",
       "INTENÇÃO DE COMPRA    0.462222\n",
       "dtype: float64"
      ]
     },
     "execution_count": 14,
     "metadata": {},
     "output_type": "execute_result"
    }
   ],
   "source": [
    "df365.iloc[:, 0:6].var()"
   ]
  },
  {
   "cell_type": "code",
   "execution_count": 15,
   "id": "35f00d9d",
   "metadata": {},
   "outputs": [
    {
     "data": {
      "text/plain": [
       "COR                   1.087980\n",
       "AROMA                 2.141818\n",
       "SABOR                 2.191919\n",
       "TEXTURA               0.959495\n",
       "IMPRESSÃO GLOBAL      1.401515\n",
       "INTENÇÃO DE COMPRA    0.462222\n",
       "dtype: float64"
      ]
     },
     "execution_count": 15,
     "metadata": {},
     "output_type": "execute_result"
    }
   ],
   "source": [
    "df679.iloc[:, 0:6].var()"
   ]
  },
  {
   "cell_type": "code",
   "execution_count": 16,
   "id": "d8b6a1a3",
   "metadata": {},
   "outputs": [],
   "source": [
    "var679 = list()\n",
    "var679 = [round(df679.iloc[:, 0:6].var()[0],2), \n",
    "          round(df679.iloc[:, 0:6].var()[1],2), \n",
    "          round(df679.iloc[:, 0:6].var()[2],2), \n",
    "          round(df679.iloc[:, 0:6].var()[3],2), \n",
    "          round(df679.iloc[:, 0:6].var()[4],2)]\n",
    "\n",
    "var365 = list()\n",
    "var365 = [round(df365.iloc[:, 0:6].var()[0],2), \n",
    "          round(df365.iloc[:, 0:6].var()[1], 2), \n",
    "          round(df365.iloc[:, 0:6].var()[2],2), \n",
    "          round(df365.iloc[:, 0:6].var()[3],2), \n",
    "          round(df365.iloc[:, 0:6].var()[4],2)]"
   ]
  },
  {
   "cell_type": "code",
   "execution_count": 17,
   "id": "c0e8bd40",
   "metadata": {},
   "outputs": [
    {
     "data": {
      "text/plain": [
       "7    30\n",
       "8    26\n",
       "6    19\n",
       "9    16\n",
       "5     4\n",
       "2     3\n",
       "4     2\n",
       "Name: SABOR, dtype: int64"
      ]
     },
     "execution_count": 17,
     "metadata": {},
     "output_type": "execute_result"
    }
   ],
   "source": [
    "df679.iloc[:, 0:6][\"SABOR\"].value_counts()"
   ]
  },
  {
   "cell_type": "code",
   "execution_count": 18,
   "id": "876a2ef2",
   "metadata": {},
   "outputs": [
    {
     "data": {
      "text/plain": [
       "8    46\n",
       "7    30\n",
       "9    16\n",
       "6     4\n",
       "5     3\n",
       "4     1\n",
       "Name: TEXTURA, dtype: int64"
      ]
     },
     "execution_count": 18,
     "metadata": {},
     "output_type": "execute_result"
    }
   ],
   "source": [
    "df365.iloc[:, 0:6][\"TEXTURA\"].value_counts()"
   ]
  },
  {
   "cell_type": "code",
   "execution_count": 19,
   "id": "06e85d1a",
   "metadata": {},
   "outputs": [],
   "source": [
    "categories = [\"COR\", \"AROMA\", \"SABOR\",\"TEXTURA\", \"IMPRESSÃO GLOBAL\"]"
   ]
  },
  {
   "cell_type": "markdown",
   "id": "3c58c28c",
   "metadata": {},
   "source": [
    "365 = VERDE, 679 = VERMELHO"
   ]
  },
  {
   "cell_type": "code",
   "execution_count": 20,
   "id": "ea252554",
   "metadata": {},
   "outputs": [
    {
     "data": {
      "image/png": "[encoded data removed]",
      "text/plain": [
       "<Figure size 1500x500 with 1 Axes>"
      ]
     },
     "metadata": {},
     "output_type": "display_data"
    }
   ],
   "source": [
    "plt.close(\"all\")\n",
    "fig, ax = plt.subplots(figsize=[15,5])\n",
    "\n",
    "v = ax.bar(categories, var365, width=0.5, color=\"r\")\n",
    "#ax.bar(categories, var365, width=0.5, color=\"r\")\n",
    "ax.set_xlabel(\"ATRIBUTOS\")\n",
    "ax.set_ylabel(\"Variação de frequências\")\n",
    "ax.set_title(\"ANOVA Produto 365\")\n",
    "ax.bar_label(v)\n",
    "plt.show()"
   ]
  },
  {
   "cell_type": "code",
   "execution_count": 21,
   "id": "cf49f196",
   "metadata": {},
   "outputs": [
    {
     "data": {
      "image/png": "[encoded data removed]",
      "text/plain": [
       "<Figure size 1500x500 with 1 Axes>"
      ]
     },
     "metadata": {},
     "output_type": "display_data"
    }
   ],
   "source": [
    "plt.close(\"all\")\n",
    "fig, ax = plt.subplots(figsize=[15,5])\n",
    "\n",
    "v = ax.bar(categories, var679, width=0.5, color=\"g\")\n",
    "#ax.bar(categories, var679, width=0.5, color=\"g\")\n",
    "ax.set_xlabel(\"ATRIBUTOS\")\n",
    "ax.set_ylabel(\"Variação de frequências\")\n",
    "ax.set_title(\"ANOVA Produto 679\")\n",
    "ax.bar_label(v)\n",
    "plt.show()"
   ]
  },
  {
   "cell_type": "code",
   "execution_count": 40,
   "id": "bd29959f",
   "metadata": {},
   "outputs": [
    {
     "data": {
      "image/png": "[encoded data removed]",
      "text/plain": [
       "<Figure size 1500x500 with 1 Axes>"
      ]
     },
     "metadata": {},
     "output_type": "display_data"
    }
   ],
   "source": [
    "plt.close(\"all\")\n",
    "widht = 0.25\n",
    "x = np.arange(5)\n",
    "fig, ax = plt.subplots(figsize=[15,5])\n",
    "\n",
    "\n",
    "\n",
    "p = ax.bar(x-0.16, var365, width=0.3, color=\"r\")\n",
    "v = ax.bar(x+0.16, var679, width=0.3, color=\"g\")\n",
    "ax.bar_label(p)\n",
    "ax.bar_label(v)\n",
    "ax.set_title('Analise de Variância')\n",
    "plt.ylabel(\"NOTAS\")\n",
    "plt.xlabel('ATRIBUTOS')\n",
    "plt.legend(['365', \"679\"])\n",
    "\n",
    "plt.xticks(x, [\"COR\",\"AROMA\", 'SABOR', \"TEXTURA\", \"IMPRESSÃO GLOBAL\" ])\n",
    "plt.yticks([n for n in range(0,4)])\n",
    "plt.savefig(fname=\"Analise_var_ladoalado.png\", dpi=400)\n",
    "\n",
    "plt.show()"
   ]
  },
  {
   "cell_type": "markdown",
   "id": "c4f26faf",
   "metadata": {},
   "source": [
    "### Teste A/B Variância"
   ]
  },
  {
   "cell_type": "markdown",
   "id": "80c093bb",
   "metadata": {},
   "source": [
    "Esse teste A/B será feito para ver diferença significativa entre a variância dos valores, para esse caso, vamos levar em conta valores acima de 0.05 como uma difereça significativa, e os abaixo como uma diferença menor relevante."
   ]
  },
  {
   "cell_type": "code",
   "execution_count": 30,
   "id": "894047f8",
   "metadata": {},
   "outputs": [],
   "source": [
    "ab_test_v = list()\n",
    "for i in range(len(var365)):\n",
    "    ab_test_v.append(round(1 - var365[i] / var679[i], 2))"
   ]
  },
  {
   "cell_type": "code",
   "execution_count": 31,
   "id": "b53bfd5b",
   "metadata": {},
   "outputs": [
    {
     "data": {
      "text/plain": [
       "[-0.3, -0.04, 0.18, 0.02, 0.06]"
      ]
     },
     "execution_count": 31,
     "metadata": {},
     "output_type": "execute_result"
    }
   ],
   "source": [
    "ab_test_v"
   ]
  },
  {
   "cell_type": "code",
   "execution_count": 32,
   "id": "df5cbb74",
   "metadata": {},
   "outputs": [
    {
     "data": {
      "text/plain": [
       "['COR', 'AROMA', 'SABOR', 'TEXTURA', 'IMPRESSÃO GLOBAL']"
      ]
     },
     "execution_count": 32,
     "metadata": {},
     "output_type": "execute_result"
    }
   ],
   "source": [
    "categories"
   ]
  },
  {
   "cell_type": "code",
   "execution_count": 33,
   "id": "b11a3b0e",
   "metadata": {},
   "outputs": [],
   "source": [
    "AB_test_v = pd.DataFrame({\"ATRIBUTOS\": categories, \"A/B\": ab_test_v})"
   ]
  },
  {
   "cell_type": "code",
   "execution_count": 34,
   "id": "bd245056",
   "metadata": {},
   "outputs": [],
   "source": [
    "AB_test_v[\"A/B\"].where(AB_test_v[\"A/B\"] >=0, AB_test_v[\"A/B\"] * (-1), inplace=True)"
   ]
  },
  {
   "cell_type": "code",
   "execution_count": 35,
   "id": "c096a268",
   "metadata": {},
   "outputs": [
    {
     "data": {
      "text/html": [
       "<div>\n",
       "<style scoped>\n",
       "    .dataframe tbody tr th:only-of-type {\n",
       "        vertical-align: middle;\n",
       "    }\n",
       "\n",
       "    .dataframe tbody tr th {\n",
       "        vertical-align: top;\n",
       "    }\n",
       "\n",
       "    .dataframe thead th {\n",
       "        text-align: right;\n",
       "    }\n",
       "</style>\n",
       "<table border=\"1\" class=\"dataframe\">\n",
       "  <thead>\n",
       "    <tr style=\"text-align: right;\">\n",
       "      <th></th>\n",
       "      <th>ATRIBUTOS</th>\n",
       "      <th>A/B</th>\n",
       "    </tr>\n",
       "  </thead>\n",
       "  <tbody>\n",
       "    <tr>\n",
       "      <th>0</th>\n",
       "      <td>COR</td>\n",
       "      <td>0.30</td>\n",
       "    </tr>\n",
       "    <tr>\n",
       "      <th>1</th>\n",
       "      <td>AROMA</td>\n",
       "      <td>0.04</td>\n",
       "    </tr>\n",
       "    <tr>\n",
       "      <th>2</th>\n",
       "      <td>SABOR</td>\n",
       "      <td>0.18</td>\n",
       "    </tr>\n",
       "    <tr>\n",
       "      <th>3</th>\n",
       "      <td>TEXTURA</td>\n",
       "      <td>0.02</td>\n",
       "    </tr>\n",
       "    <tr>\n",
       "      <th>4</th>\n",
       "      <td>IMPRESSÃO GLOBAL</td>\n",
       "      <td>0.06</td>\n",
       "    </tr>\n",
       "  </tbody>\n",
       "</table>\n",
       "</div>"
      ],
      "text/plain": [
       "          ATRIBUTOS   A/B\n",
       "0               COR  0.30\n",
       "1             AROMA  0.04\n",
       "2             SABOR  0.18\n",
       "3           TEXTURA  0.02\n",
       "4  IMPRESSÃO GLOBAL  0.06"
      ]
     },
     "execution_count": 35,
     "metadata": {},
     "output_type": "execute_result"
    }
   ],
   "source": [
    "AB_test_v"
   ]
  },
  {
   "cell_type": "code",
   "execution_count": 36,
   "id": "9dfab833",
   "metadata": {},
   "outputs": [
    {
     "data": {
      "text/plain": [
       "['COR', 'AROMA', 'SABOR', 'TEXTURA', 'IMPRESSÃO GLOBAL']"
      ]
     },
     "execution_count": 36,
     "metadata": {},
     "output_type": "execute_result"
    }
   ],
   "source": [
    "categories"
   ]
  },
  {
   "cell_type": "code",
   "execution_count": 41,
   "id": "117e65cd",
   "metadata": {},
   "outputs": [
    {
     "data": {
      "image/png": "[encoded data removed]",
      "text/plain": [
       "<Figure size 1000x500 with 1 Axes>"
      ]
     },
     "metadata": {},
     "output_type": "display_data"
    }
   ],
   "source": [
    "plt.close(\"all\")\n",
    "fig, ax = plt.subplots(figsize=(10,5))\n",
    "\n",
    "ax.scatter(categories, [0.3,0.04,0.18,0.02,0.06], color='black')\n",
    "ax.set(ylim=(0,0.4))\n",
    "ax.axhline(y=0.5, color='r')\n",
    "ax.set(title=\"Teste A/B Variância\")\n",
    "ax.plot(categories, [0.05] * 5, color=\"r\")\n",
    "plt.ylabel(\"365 / 769\")\n",
    "plt.xlabel('ATRIBUTOS')\n",
    "\n",
    "plt.savefig(\"Teste_AB_var.png\", dpi=400)\n",
    "plt.show()"
   ]
  },
  {
   "cell_type": "markdown",
   "id": "fdae6ae7",
   "metadata": {},
   "source": [
    "## Comparativo de médias"
   ]
  },
  {
   "cell_type": "markdown",
   "id": "8e266e3c",
   "metadata": {},
   "source": [
    "Esse ponto visa somente analisar a média aritmética dos atributos. <br>\n",
    "**Media Aritmética** <br>\n",
    "A média aritmética é a soma dos valores dados aos atributos dividida pela quantidade de provadores.\n"
   ]
  },
  {
   "cell_type": "code",
   "execution_count": 43,
   "id": "022a491c",
   "metadata": {},
   "outputs": [
    {
     "data": {
      "text/plain": [
       "COR                   7.73\n",
       "AROMA                 6.14\n",
       "SABOR                 7.10\n",
       "TEXTURA               7.51\n",
       "IMPRESSÃO GLOBAL      7.35\n",
       "INTENÇÃO DE COMPRA    4.32\n",
       "dtype: float64"
      ]
     },
     "execution_count": 43,
     "metadata": {},
     "output_type": "execute_result"
    }
   ],
   "source": [
    "df679.iloc[:, 0:6].mean()"
   ]
  },
  {
   "cell_type": "code",
   "execution_count": 44,
   "id": "b4f26e2f",
   "metadata": {
    "scrolled": true
   },
   "outputs": [
    {
     "data": {
      "text/plain": [
       "COR                   7.82\n",
       "AROMA                 6.24\n",
       "SABOR                 7.89\n",
       "TEXTURA               7.65\n",
       "IMPRESSÃO GLOBAL      8.06\n",
       "INTENÇÃO DE COMPRA    4.32\n",
       "dtype: float64"
      ]
     },
     "execution_count": 44,
     "metadata": {},
     "output_type": "execute_result"
    }
   ],
   "source": [
    "df365.iloc[:, 0:6].mean()"
   ]
  },
  {
   "cell_type": "code",
   "execution_count": 45,
   "id": "eba0ca38",
   "metadata": {},
   "outputs": [
    {
     "data": {
      "text/plain": [
       "([7.73, 6.14, 7.1, 7.51, 7.35], [7.82, 6.24, 7.89, 7.65, 8.06])"
      ]
     },
     "execution_count": 45,
     "metadata": {},
     "output_type": "execute_result"
    }
   ],
   "source": [
    "media679 = list()\n",
    "media679 = [df679.iloc[:, 0:6].mean()[0], \n",
    "            df679.iloc[:, 0:6].mean()[1], \n",
    "            df679.iloc[:, 0:6].mean()[2], \n",
    "            df679.iloc[:, 0:6].mean()[3], \n",
    "            df679.iloc[:, 0:6].mean()[4]]\n",
    "media365 = list()\n",
    "media365 = [df365.iloc[:, 0:6].mean()[0], \n",
    "            df365.iloc[:, 0:6].mean()[1], \n",
    "            df365.iloc[:, 0:6].mean()[2], \n",
    "            df365.iloc[:, 0:6].mean()[3], \n",
    "            df365.iloc[:, 0:6].mean()[4]]\n",
    "media679, media365"
   ]
  },
  {
   "cell_type": "code",
   "execution_count": 46,
   "id": "b060d0e6",
   "metadata": {},
   "outputs": [
    {
     "data": {
      "image/png": "[encoded data removed]",
      "text/plain": [
       "<Figure size 1500x500 with 1 Axes>"
      ]
     },
     "metadata": {},
     "output_type": "display_data"
    }
   ],
   "source": [
    "plt.close(\"all\")\n",
    "fig, ax = plt.subplots(figsize=[15,5])\n",
    "\n",
    "p = ax.bar(categories, media679, width=0.6)\n",
    "v = ax.bar(categories, media679, width=0.1, color=\"pink\")\n",
    "ax.bar(categories, media679, width=0.6, color=\"g\")\n",
    "#ax.bar(categories, var365, width=0.08, color=\"purple\")\n",
    "#ax.plot(categories, var365, color=\"black\")\n",
    "ax.bar_label(p)\n",
    "#ax.bar_label(v)\n",
    "ax.set_xlabel(\"ATRIBUTOS\")\n",
    "ax.set_ylabel(\"NOTAS\")\n",
    "ax.set_title(\"Analise de Média \\n Produto 679\")\n",
    "plt.show()"
   ]
  },
  {
   "cell_type": "code",
   "execution_count": 47,
   "id": "ff7761b5",
   "metadata": {},
   "outputs": [
    {
     "data": {
      "image/png": "[encoded data removed]",
      "text/plain": [
       "<Figure size 1500x500 with 1 Axes>"
      ]
     },
     "metadata": {},
     "output_type": "display_data"
    }
   ],
   "source": [
    "plt.close(\"all\")\n",
    "fig, ax = plt.subplots(figsize=[15,5])\n",
    "\n",
    "p = ax.bar(categories, media365, width=0.6)\n",
    "v = ax.bar(categories, media365, width=0.1, color=\"pink\")\n",
    "ax.bar(categories, media365, width=0.6, color=\"r\")\n",
    "#ax.bar(categories, var365, width=0.08, color=\"purple\")\n",
    "#ax.plot(categories, var365, color=\"black\")\n",
    "ax.bar_label(p)\n",
    "#ax.bar_label(v)\n",
    "ax.set_xlabel(\"ATRIBUTOS\")\n",
    "ax.set_ylabel(\"NOTAS\")\n",
    "ax.set_title(\"Analise de Média \\n Produto 365\")\n",
    "plt.show()"
   ]
  },
  {
   "cell_type": "code",
   "execution_count": 48,
   "id": "6073d410",
   "metadata": {},
   "outputs": [
    {
     "data": {
      "image/png": "[encoded data removed]",
      "text/plain": [
       "<Figure size 1500x500 with 1 Axes>"
      ]
     },
     "metadata": {},
     "output_type": "display_data"
    }
   ],
   "source": [
    "plt.close(\"all\")\n",
    "widht = 0.25\n",
    "x = np.arange(5)\n",
    "fig, ax = plt.subplots(figsize=[15,5])\n",
    "\n",
    "\n",
    "\n",
    "p = ax.bar(x-0.16, media365, width=0.3, color=\"r\")\n",
    "v = ax.bar(x+0.16, media679, width=0.3, color=\"g\")\n",
    "ax.bar_label(p)\n",
    "ax.bar_label(v)\n",
    "ax.set_title('Comparativo de médias')\n",
    "plt.ylabel(\"NOTAS\")\n",
    "plt.xlabel('ATRIBUTOS')\n",
    "plt.legend(['365', \"679\"])\n",
    "\n",
    "plt.xticks(x, categories)\n",
    "plt.yticks([n for n in range(0,11)])\n",
    "plt.savefig(\"Comparativo_media.png\", dpi=400)\n",
    "plt.show()"
   ]
  },
  {
   "cell_type": "code",
   "execution_count": 49,
   "id": "35f95bc9",
   "metadata": {},
   "outputs": [
    {
     "data": {
      "text/plain": [
       "7.4"
      ]
     },
     "execution_count": 49,
     "metadata": {},
     "output_type": "execute_result"
    }
   ],
   "source": [
    "(7.82 + 6.24 + 7.89 + 7.65) / 4"
   ]
  },
  {
   "cell_type": "markdown",
   "id": "cf921f6e",
   "metadata": {},
   "source": [
    "#### Por qual motivo aroma está com a média baixa nas duas balas?"
   ]
  },
  {
   "cell_type": "code",
   "execution_count": 50,
   "id": "65481550",
   "metadata": {},
   "outputs": [
    {
     "data": {
      "text/plain": [
       "(6.24, 6.14)"
      ]
     },
     "execution_count": 50,
     "metadata": {},
     "output_type": "execute_result"
    }
   ],
   "source": [
    "df365['AROMA'].mean(), df679[\"AROMA\"].mean()"
   ]
  },
  {
   "cell_type": "markdown",
   "id": "e777799c",
   "metadata": {},
   "source": [
    "# Optativo"
   ]
  },
  {
   "cell_type": "markdown",
   "id": "159a948d",
   "metadata": {},
   "source": [
    "### Teste A/B Média"
   ]
  },
  {
   "cell_type": "markdown",
   "id": "4f0a91e7",
   "metadata": {},
   "source": [
    "Esse teste A/B será feito para ver diferença significativa entre a variância dos valores, para esse caso, vamos levar em conta valores acima de 0.05 como uma difereça significativa, e os abaixo como uma diferença menor relevante."
   ]
  },
  {
   "cell_type": "code",
   "execution_count": 51,
   "id": "e35dac0e",
   "metadata": {},
   "outputs": [],
   "source": [
    "ab_test_m = list()\n",
    "for i in range(len(var365)):\n",
    "    ab_test_m.append(round(1 - media365[i] / media679[i], 2))"
   ]
  },
  {
   "cell_type": "code",
   "execution_count": 52,
   "id": "1a06715f",
   "metadata": {},
   "outputs": [
    {
     "data": {
      "text/plain": [
       "[-0.01, -0.02, -0.11, -0.02, -0.1]"
      ]
     },
     "execution_count": 52,
     "metadata": {},
     "output_type": "execute_result"
    }
   ],
   "source": [
    "ab_test_m"
   ]
  },
  {
   "cell_type": "code",
   "execution_count": 53,
   "id": "6344069c",
   "metadata": {},
   "outputs": [],
   "source": [
    "AB_test_m = pd.DataFrame({\"ATRIBUTOS\": categories, \"A/B\": ab_test_m})"
   ]
  },
  {
   "cell_type": "code",
   "execution_count": 54,
   "id": "864c6636",
   "metadata": {},
   "outputs": [],
   "source": [
    "AB_test_m[\"A/B\"].where(AB_test_m[\"A/B\"] >=0, AB_test_m[\"A/B\"] * (-1), inplace=True)"
   ]
  },
  {
   "cell_type": "code",
   "execution_count": 55,
   "id": "4af755ee",
   "metadata": {},
   "outputs": [
    {
     "data": {
      "text/html": [
       "<div>\n",
       "<style scoped>\n",
       "    .dataframe tbody tr th:only-of-type {\n",
       "        vertical-align: middle;\n",
       "    }\n",
       "\n",
       "    .dataframe tbody tr th {\n",
       "        vertical-align: top;\n",
       "    }\n",
       "\n",
       "    .dataframe thead th {\n",
       "        text-align: right;\n",
       "    }\n",
       "</style>\n",
       "<table border=\"1\" class=\"dataframe\">\n",
       "  <thead>\n",
       "    <tr style=\"text-align: right;\">\n",
       "      <th></th>\n",
       "      <th>ATRIBUTOS</th>\n",
       "      <th>A/B</th>\n",
       "    </tr>\n",
       "  </thead>\n",
       "  <tbody>\n",
       "    <tr>\n",
       "      <th>0</th>\n",
       "      <td>COR</td>\n",
       "      <td>0.01</td>\n",
       "    </tr>\n",
       "    <tr>\n",
       "      <th>1</th>\n",
       "      <td>AROMA</td>\n",
       "      <td>0.02</td>\n",
       "    </tr>\n",
       "    <tr>\n",
       "      <th>2</th>\n",
       "      <td>SABOR</td>\n",
       "      <td>0.11</td>\n",
       "    </tr>\n",
       "    <tr>\n",
       "      <th>3</th>\n",
       "      <td>TEXTURA</td>\n",
       "      <td>0.02</td>\n",
       "    </tr>\n",
       "    <tr>\n",
       "      <th>4</th>\n",
       "      <td>IMPRESSÃO GLOBAL</td>\n",
       "      <td>0.10</td>\n",
       "    </tr>\n",
       "  </tbody>\n",
       "</table>\n",
       "</div>"
      ],
      "text/plain": [
       "          ATRIBUTOS   A/B\n",
       "0               COR  0.01\n",
       "1             AROMA  0.02\n",
       "2             SABOR  0.11\n",
       "3           TEXTURA  0.02\n",
       "4  IMPRESSÃO GLOBAL  0.10"
      ]
     },
     "execution_count": 55,
     "metadata": {},
     "output_type": "execute_result"
    }
   ],
   "source": [
    "AB_test_m"
   ]
  },
  {
   "cell_type": "code",
   "execution_count": 57,
   "id": "131b05e6",
   "metadata": {},
   "outputs": [
    {
     "data": {
      "image/png": "[encoded data removed]",
      "text/plain": [
       "<Figure size 1000x500 with 1 Axes>"
      ]
     },
     "metadata": {},
     "output_type": "display_data"
    }
   ],
   "source": [
    "plt.close(\"all\")\n",
    "fig, ax = plt.subplots(figsize=(10,5))\n",
    "\n",
    "ax.scatter(categories, AB_test_m[\"A/B\"], color='black')\n",
    "ax.set(ylim=(0,0.2))\n",
    "ax.axhline(y=0.5, color='r')\n",
    "ax.set(title=\"Teste A/B Média\")\n",
    "ax.plot(categories, [0.05] * 5, color=\"r\")\n",
    "plt.ylabel(\"365 / 769\")\n",
    "plt.xlabel('ATRIBUTOS')\n",
    "\n",
    "plt.savefig(\"Teste_AB_media.png\", dpi=400)\n",
    "plt.show()"
   ]
  },
  {
   "cell_type": "markdown",
   "id": "8df61cb5",
   "metadata": {},
   "source": [
    "# Avaliação dos resultados"
   ]
  },
  {
   "cell_type": "markdown",
   "id": "38270b4c",
   "metadata": {},
   "source": [
    "### Qual idade das pessoas que deram nota baixa para Aroma?"
   ]
  },
  {
   "cell_type": "markdown",
   "id": "7c21f78a",
   "metadata": {},
   "source": [
    "Vamos considerar 6 como nota baixa"
   ]
  },
  {
   "cell_type": "code",
   "execution_count": null,
   "id": "3ed99b9b",
   "metadata": {},
   "outputs": [],
   "source": []
  },
  {
   "cell_type": "code",
   "execution_count": 58,
   "id": "1c93c73d",
   "metadata": {},
   "outputs": [
    {
     "data": {
      "text/plain": [
       "F    77\n",
       "M    23\n",
       "Name: SEXO, dtype: int64"
      ]
     },
     "execution_count": 58,
     "metadata": {},
     "output_type": "execute_result"
    }
   ],
   "source": [
    "df365[\"SEXO\"].value_counts()"
   ]
  },
  {
   "cell_type": "code",
   "execution_count": 59,
   "id": "6e1e25aa",
   "metadata": {},
   "outputs": [
    {
     "data": {
      "text/plain": [
       "SEXO\n",
       "F    39\n",
       "M    16\n",
       "dtype: int64"
      ]
     },
     "execution_count": 59,
     "metadata": {},
     "output_type": "execute_result"
    }
   ],
   "source": [
    "df365[df365[\"AROMA\"] <= 6].value_counts(\"SEXO\")"
   ]
  },
  {
   "cell_type": "markdown",
   "id": "7829c62c",
   "metadata": {},
   "source": [
    "Porcentagem de homens que deram nota baixa em aroma"
   ]
  },
  {
   "cell_type": "code",
   "execution_count": 60,
   "id": "3d4c9f99",
   "metadata": {},
   "outputs": [
    {
     "data": {
      "text/plain": [
       "0.6956521739130435"
      ]
     },
     "execution_count": 60,
     "metadata": {},
     "output_type": "execute_result"
    }
   ],
   "source": [
    "16 / 23"
   ]
  },
  {
   "cell_type": "markdown",
   "id": "d1e46378",
   "metadata": {},
   "source": [
    "Porcentagem das mulheres que deram nota baixa em aroma"
   ]
  },
  {
   "cell_type": "code",
   "execution_count": 61,
   "id": "74e567a7",
   "metadata": {},
   "outputs": [],
   "source": [
    "df365[\"cat_idde\"] = None"
   ]
  },
  {
   "cell_type": "code",
   "execution_count": 62,
   "id": "753c39df",
   "metadata": {},
   "outputs": [],
   "source": [
    "df679[\"cat_idde\"] = None"
   ]
  },
  {
   "cell_type": "code",
   "execution_count": 63,
   "id": "b9d96c8c",
   "metadata": {},
   "outputs": [],
   "source": [
    "df365.loc[(df365[\"IDADE\"] < 25) & (df365[\"IDADE\"] >=18), \"cat_idde\"] = \"18 a 25 anos\"\n",
    "df679.loc[(df679[\"IDADE\"] < 25) & (df679[\"IDADE\"] >=18), \"cat_idde\"] = \"18 a 25 anos\""
   ]
  },
  {
   "cell_type": "code",
   "execution_count": 64,
   "id": "31821a21",
   "metadata": {},
   "outputs": [],
   "source": [
    "df365.loc[(df365[\"IDADE\"] >= 25) & (df365[\"IDADE\"] < 35), \"cat_idde\"] = \"26 a 40 anos\"\n",
    "df679.loc[(df679[\"IDADE\"] >= 25) & (df679[\"IDADE\"] < 35), \"cat_idde\"] = \"26 a 40 anos\""
   ]
  },
  {
   "cell_type": "code",
   "execution_count": 65,
   "id": "84ce5c23",
   "metadata": {},
   "outputs": [],
   "source": [
    "df365.loc[df365[\"IDADE\"] > 40, \"cat_idde\"] = \"Mais de 40 anos\"\n",
    "df679.loc[df679[\"IDADE\"] > 40, \"cat_idde\"] = \"Mais de 40 anos\""
   ]
  },
  {
   "cell_type": "code",
   "execution_count": 66,
   "id": "aa874f6c",
   "metadata": {},
   "outputs": [
    {
     "data": {
      "text/html": [
       "<div>\n",
       "<style scoped>\n",
       "    .dataframe tbody tr th:only-of-type {\n",
       "        vertical-align: middle;\n",
       "    }\n",
       "\n",
       "    .dataframe tbody tr th {\n",
       "        vertical-align: top;\n",
       "    }\n",
       "\n",
       "    .dataframe thead th {\n",
       "        text-align: right;\n",
       "    }\n",
       "</style>\n",
       "<table border=\"1\" class=\"dataframe\">\n",
       "  <thead>\n",
       "    <tr style=\"text-align: right;\">\n",
       "      <th></th>\n",
       "      <th>COR</th>\n",
       "      <th>AROMA</th>\n",
       "      <th>SABOR</th>\n",
       "      <th>TEXTURA</th>\n",
       "      <th>IMPRESSÃO GLOBAL</th>\n",
       "      <th>INTENÇÃO DE COMPRA</th>\n",
       "      <th>IDADE</th>\n",
       "      <th>SEXO</th>\n",
       "      <th>cat_idde</th>\n",
       "    </tr>\n",
       "  </thead>\n",
       "  <tbody>\n",
       "    <tr>\n",
       "      <th>1</th>\n",
       "      <td>9</td>\n",
       "      <td>7</td>\n",
       "      <td>5</td>\n",
       "      <td>8</td>\n",
       "      <td>8</td>\n",
       "      <td>3</td>\n",
       "      <td>20</td>\n",
       "      <td>F</td>\n",
       "      <td>18 a 25 anos</td>\n",
       "    </tr>\n",
       "    <tr>\n",
       "      <th>2</th>\n",
       "      <td>8</td>\n",
       "      <td>7</td>\n",
       "      <td>9</td>\n",
       "      <td>9</td>\n",
       "      <td>9</td>\n",
       "      <td>5</td>\n",
       "      <td>41</td>\n",
       "      <td>F</td>\n",
       "      <td>Mais de 40 anos</td>\n",
       "    </tr>\n",
       "    <tr>\n",
       "      <th>3</th>\n",
       "      <td>8</td>\n",
       "      <td>7</td>\n",
       "      <td>8</td>\n",
       "      <td>9</td>\n",
       "      <td>8</td>\n",
       "      <td>4</td>\n",
       "      <td>33</td>\n",
       "      <td>F</td>\n",
       "      <td>26 a 40 anos</td>\n",
       "    </tr>\n",
       "    <tr>\n",
       "      <th>4</th>\n",
       "      <td>8</td>\n",
       "      <td>5</td>\n",
       "      <td>7</td>\n",
       "      <td>7</td>\n",
       "      <td>8</td>\n",
       "      <td>3</td>\n",
       "      <td>26</td>\n",
       "      <td>F</td>\n",
       "      <td>26 a 40 anos</td>\n",
       "    </tr>\n",
       "    <tr>\n",
       "      <th>5</th>\n",
       "      <td>7</td>\n",
       "      <td>8</td>\n",
       "      <td>8</td>\n",
       "      <td>8</td>\n",
       "      <td>8</td>\n",
       "      <td>3</td>\n",
       "      <td>24</td>\n",
       "      <td>M</td>\n",
       "      <td>18 a 25 anos</td>\n",
       "    </tr>\n",
       "    <tr>\n",
       "      <th>6</th>\n",
       "      <td>9</td>\n",
       "      <td>5</td>\n",
       "      <td>9</td>\n",
       "      <td>7</td>\n",
       "      <td>9</td>\n",
       "      <td>4</td>\n",
       "      <td>26</td>\n",
       "      <td>F</td>\n",
       "      <td>26 a 40 anos</td>\n",
       "    </tr>\n",
       "    <tr>\n",
       "      <th>7</th>\n",
       "      <td>9</td>\n",
       "      <td>9</td>\n",
       "      <td>9</td>\n",
       "      <td>9</td>\n",
       "      <td>9</td>\n",
       "      <td>5</td>\n",
       "      <td>22</td>\n",
       "      <td>F</td>\n",
       "      <td>18 a 25 anos</td>\n",
       "    </tr>\n",
       "    <tr>\n",
       "      <th>8</th>\n",
       "      <td>9</td>\n",
       "      <td>4</td>\n",
       "      <td>8</td>\n",
       "      <td>7</td>\n",
       "      <td>8</td>\n",
       "      <td>4</td>\n",
       "      <td>23</td>\n",
       "      <td>M</td>\n",
       "      <td>18 a 25 anos</td>\n",
       "    </tr>\n",
       "    <tr>\n",
       "      <th>9</th>\n",
       "      <td>8</td>\n",
       "      <td>6</td>\n",
       "      <td>8</td>\n",
       "      <td>7</td>\n",
       "      <td>8</td>\n",
       "      <td>5</td>\n",
       "      <td>23</td>\n",
       "      <td>M</td>\n",
       "      <td>18 a 25 anos</td>\n",
       "    </tr>\n",
       "    <tr>\n",
       "      <th>10</th>\n",
       "      <td>8</td>\n",
       "      <td>5</td>\n",
       "      <td>9</td>\n",
       "      <td>7</td>\n",
       "      <td>8</td>\n",
       "      <td>5</td>\n",
       "      <td>30</td>\n",
       "      <td>M</td>\n",
       "      <td>26 a 40 anos</td>\n",
       "    </tr>\n",
       "  </tbody>\n",
       "</table>\n",
       "</div>"
      ],
      "text/plain": [
       "   COR AROMA SABOR TEXTURA IMPRESSÃO GLOBAL INTENÇÃO DE COMPRA IDADE SEXO  \\\n",
       "1    9     7     5       8                8                  3    20    F   \n",
       "2    8     7     9       9                9                  5    41    F   \n",
       "3    8     7     8       9                8                  4    33    F   \n",
       "4    8     5     7       7                8                  3    26    F   \n",
       "5    7     8     8       8                8                  3    24    M   \n",
       "6    9     5     9       7                9                  4    26    F   \n",
       "7    9     9     9       9                9                  5    22    F   \n",
       "8    9     4     8       7                8                  4    23    M   \n",
       "9    8     6     8       7                8                  5    23    M   \n",
       "10   8     5     9       7                8                  5    30    M   \n",
       "\n",
       "           cat_idde  \n",
       "1      18 a 25 anos  \n",
       "2   Mais de 40 anos  \n",
       "3      26 a 40 anos  \n",
       "4      26 a 40 anos  \n",
       "5      18 a 25 anos  \n",
       "6      26 a 40 anos  \n",
       "7      18 a 25 anos  \n",
       "8      18 a 25 anos  \n",
       "9      18 a 25 anos  \n",
       "10     26 a 40 anos  "
      ]
     },
     "execution_count": 66,
     "metadata": {},
     "output_type": "execute_result"
    }
   ],
   "source": [
    "df365.head(10)"
   ]
  },
  {
   "cell_type": "code",
   "execution_count": 67,
   "id": "491d069b",
   "metadata": {},
   "outputs": [
    {
     "data": {
      "text/plain": [
       "18 a 25 anos       72\n",
       "26 a 40 anos       23\n",
       "Mais de 40 anos     4\n",
       "Name: cat_idde, dtype: int64"
      ]
     },
     "execution_count": 67,
     "metadata": {},
     "output_type": "execute_result"
    }
   ],
   "source": [
    "df365[\"cat_idde\"].value_counts()"
   ]
  },
  {
   "cell_type": "code",
   "execution_count": 69,
   "id": "e53c4c56",
   "metadata": {},
   "outputs": [
    {
     "data": {
      "image/png": "[encoded data removed]",
      "text/plain": [
       "<Figure size 800x500 with 1 Axes>"
      ]
     },
     "metadata": {},
     "output_type": "display_data"
    }
   ],
   "source": [
    "plt.close(\"all\")\n",
    "fig, axes = plt.subplots(figsize=(8,5))\n",
    "\n",
    "p = sns.countplot(x=df365['cat_idde'].sort_values(), \n",
    "                  orient=\"v\", \n",
    "                  width=0.5, \n",
    "                  palette=[\"mediumblue\", \"royalblue\", \"dodgerblue\"])\n",
    "\n",
    "axes.set_ylabel(\"Frequência\")\n",
    "axes.set_xlabel(\"IDADE\")\n",
    "axes.set_title(\"Frequência de Idade\")\n",
    "\n",
    "plt.savefig(\"FrequenciaIdade.png\", dpi=400)\n",
    "plt.show()"
   ]
  },
  {
   "cell_type": "code",
   "execution_count": 54,
   "id": "4ba99325",
   "metadata": {},
   "outputs": [
    {
     "data": {
      "text/plain": [
       "0.5064935064935064"
      ]
     },
     "execution_count": 54,
     "metadata": {},
     "output_type": "execute_result"
    }
   ],
   "source": [
    "39/77"
   ]
  },
  {
   "cell_type": "code",
   "execution_count": 55,
   "id": "b19eb594",
   "metadata": {},
   "outputs": [
    {
     "data": {
      "text/plain": [
       "IDADE\n",
       "18    9\n",
       "21    9\n",
       "20    7\n",
       "19    5\n",
       "22    5\n",
       "23    4\n",
       "24    4\n",
       "26    3\n",
       "30    3\n",
       "25    1\n",
       "28    1\n",
       "32    1\n",
       "38    1\n",
       "43    1\n",
       "49    1\n",
       "dtype: int64"
      ]
     },
     "execution_count": 55,
     "metadata": {},
     "output_type": "execute_result"
    }
   ],
   "source": [
    "df365[df365[\"AROMA\"] <= 6].value_counts(\"IDADE\")"
   ]
  },
  {
   "cell_type": "markdown",
   "id": "03bf1e11",
   "metadata": {},
   "source": [
    "# Intenção de Compra"
   ]
  },
  {
   "cell_type": "markdown",
   "id": "c0b44698",
   "metadata": {},
   "source": [
    "Itenção de compra varia de 1 a 5 sendo cada valor uma avaliação que está descrita na tabela abaixo:\n",
    "\n",
    "| Variable Name|     Description    |\n",
    "| --------- |---------------------:|\n",
    "| **5**        | Eu certamente compraria este produto.            |\n",
    "|     **4**     |Eu provavelmente compraria este produto.          |\n",
    "| **3**         | Tenho dúvidas se compraria ou não este produto.  |\n",
    "| **2**         | Eu provavelmente não compraria este produto.     |\n",
    "|     **1**     | Eu certamente não compraria este produto.               |\n"
   ]
  },
  {
   "cell_type": "code",
   "execution_count": 56,
   "id": "00d16bac",
   "metadata": {},
   "outputs": [
    {
     "data": {
      "text/html": [
       "<div>\n",
       "<style scoped>\n",
       "    .dataframe tbody tr th:only-of-type {\n",
       "        vertical-align: middle;\n",
       "    }\n",
       "\n",
       "    .dataframe tbody tr th {\n",
       "        vertical-align: top;\n",
       "    }\n",
       "\n",
       "    .dataframe thead th {\n",
       "        text-align: right;\n",
       "    }\n",
       "</style>\n",
       "<table border=\"1\" class=\"dataframe\">\n",
       "  <thead>\n",
       "    <tr style=\"text-align: right;\">\n",
       "      <th></th>\n",
       "      <th>IMPRESSÃO GLOBAL</th>\n",
       "    </tr>\n",
       "    <tr>\n",
       "      <th>INTENÇÃO DE COMPRA</th>\n",
       "      <th></th>\n",
       "    </tr>\n",
       "  </thead>\n",
       "  <tbody>\n",
       "    <tr>\n",
       "      <th>2</th>\n",
       "      <td>1</td>\n",
       "    </tr>\n",
       "    <tr>\n",
       "      <th>3</th>\n",
       "      <td>9</td>\n",
       "    </tr>\n",
       "    <tr>\n",
       "      <th>5</th>\n",
       "      <td>43</td>\n",
       "    </tr>\n",
       "    <tr>\n",
       "      <th>4</th>\n",
       "      <td>47</td>\n",
       "    </tr>\n",
       "  </tbody>\n",
       "</table>\n",
       "</div>"
      ],
      "text/plain": [
       "                    IMPRESSÃO GLOBAL\n",
       "INTENÇÃO DE COMPRA                  \n",
       "2                                  1\n",
       "3                                  9\n",
       "5                                 43\n",
       "4                                 47"
      ]
     },
     "execution_count": 56,
     "metadata": {},
     "output_type": "execute_result"
    }
   ],
   "source": [
    "df365.groupby(\"INTENÇÃO DE COMPRA\")[[\"IMPRESSÃO GLOBAL\"]].count().sort_values(by=\"IMPRESSÃO GLOBAL\")"
   ]
  },
  {
   "cell_type": "code",
   "execution_count": 70,
   "id": "37831ee4",
   "metadata": {},
   "outputs": [
    {
     "data": {
      "image/png": "[encoded data removed]",
      "text/plain": [
       "<Figure size 800x600 with 1 Axes>"
      ]
     },
     "metadata": {},
     "output_type": "display_data"
    }
   ],
   "source": [
    "plt.close(\"all\")\n",
    "fig, axes = plt.subplots(figsize=(8,6))\n",
    "sns.countplot(x=\"INTENÇÃO DE COMPRA\", \n",
    "              data=df365, width=0.5, \n",
    "              color=\"c\",\n",
    "             palette=[\"dodgerblue\", \"royalblue\",\"mediumblue\", \"navy\"])\n",
    "axes.set_yticks([0,10,20,30,40,50])\n",
    "axes.set_ylabel(\"Frequência\")\n",
    "\n",
    "for p in axes.patches:\n",
    "    axes.annotate(format(p.get_height(), '.0f'), \n",
    "                (p.get_x() + p.get_width() / 2., p.get_height()), \n",
    "                ha = 'center', va = 'center', \n",
    "                xytext = (0, 10), \n",
    "                textcoords = 'offset points')\n",
    "\n",
    "plt.savefig(\"Frequencia_IntecaoCompra.png\", dpi=400)\n",
    "plt.show()"
   ]
  },
  {
   "cell_type": "code",
   "execution_count": 71,
   "id": "1dbcdace",
   "metadata": {},
   "outputs": [
    {
     "data": {
      "image/png": "[encoded data removed]",
      "text/plain": [
       "<Figure size 1500x600 with 1 Axes>"
      ]
     },
     "metadata": {},
     "output_type": "display_data"
    }
   ],
   "source": [
    "plt.close(\"all\")\n",
    "fig, axes = plt.subplots(figsize=(15,6))\n",
    "\n",
    "p = sns.lineplot(x=\"INTENÇÃO DE COMPRA\", y=\"IDADE\" ,data=df365, errorbar=None)\n",
    "axes.set_title(\"Intenção de compra de acordo com a idade\")\n",
    "axes.set_xticks([0.5,1,2,3, 4, 5])\n",
    "\n",
    "plt.savefig(\"Intencao_Idade.png\", dpi=400)\n",
    "plt.show()"
   ]
  },
  {
   "cell_type": "markdown",
   "id": "3e9ca0c1",
   "metadata": {},
   "source": [
    "# Aceitabilidade"
   ]
  },
  {
   "cell_type": "markdown",
   "id": "a629c962",
   "metadata": {},
   "source": [
    "A aceitabilidade será formada em função da média de  ``COR``, ``AROMA``, ``SABOR`` e ``TEXTURA``"
   ]
  },
  {
   "cell_type": "code",
   "execution_count": 72,
   "id": "66502a03",
   "metadata": {},
   "outputs": [
    {
     "data": {
      "text/html": [
       "<div>\n",
       "<style scoped>\n",
       "    .dataframe tbody tr th:only-of-type {\n",
       "        vertical-align: middle;\n",
       "    }\n",
       "\n",
       "    .dataframe tbody tr th {\n",
       "        vertical-align: top;\n",
       "    }\n",
       "\n",
       "    .dataframe thead th {\n",
       "        text-align: right;\n",
       "    }\n",
       "</style>\n",
       "<table border=\"1\" class=\"dataframe\">\n",
       "  <thead>\n",
       "    <tr style=\"text-align: right;\">\n",
       "      <th></th>\n",
       "      <th>COR</th>\n",
       "      <th>AROMA</th>\n",
       "      <th>SABOR</th>\n",
       "      <th>TEXTURA</th>\n",
       "      <th>IMPRESSÃO GLOBAL</th>\n",
       "      <th>INTENÇÃO DE COMPRA</th>\n",
       "      <th>IDADE</th>\n",
       "      <th>SEXO</th>\n",
       "      <th>cat_idde</th>\n",
       "    </tr>\n",
       "  </thead>\n",
       "  <tbody>\n",
       "    <tr>\n",
       "      <th>1</th>\n",
       "      <td>9</td>\n",
       "      <td>7</td>\n",
       "      <td>5</td>\n",
       "      <td>8</td>\n",
       "      <td>8</td>\n",
       "      <td>3</td>\n",
       "      <td>20</td>\n",
       "      <td>F</td>\n",
       "      <td>18 a 25 anos</td>\n",
       "    </tr>\n",
       "    <tr>\n",
       "      <th>2</th>\n",
       "      <td>8</td>\n",
       "      <td>7</td>\n",
       "      <td>9</td>\n",
       "      <td>9</td>\n",
       "      <td>9</td>\n",
       "      <td>5</td>\n",
       "      <td>41</td>\n",
       "      <td>F</td>\n",
       "      <td>Mais de 40 anos</td>\n",
       "    </tr>\n",
       "    <tr>\n",
       "      <th>3</th>\n",
       "      <td>8</td>\n",
       "      <td>7</td>\n",
       "      <td>8</td>\n",
       "      <td>9</td>\n",
       "      <td>8</td>\n",
       "      <td>4</td>\n",
       "      <td>33</td>\n",
       "      <td>F</td>\n",
       "      <td>26 a 40 anos</td>\n",
       "    </tr>\n",
       "    <tr>\n",
       "      <th>4</th>\n",
       "      <td>8</td>\n",
       "      <td>5</td>\n",
       "      <td>7</td>\n",
       "      <td>7</td>\n",
       "      <td>8</td>\n",
       "      <td>3</td>\n",
       "      <td>26</td>\n",
       "      <td>F</td>\n",
       "      <td>26 a 40 anos</td>\n",
       "    </tr>\n",
       "    <tr>\n",
       "      <th>5</th>\n",
       "      <td>7</td>\n",
       "      <td>8</td>\n",
       "      <td>8</td>\n",
       "      <td>8</td>\n",
       "      <td>8</td>\n",
       "      <td>3</td>\n",
       "      <td>24</td>\n",
       "      <td>M</td>\n",
       "      <td>18 a 25 anos</td>\n",
       "    </tr>\n",
       "  </tbody>\n",
       "</table>\n",
       "</div>"
      ],
      "text/plain": [
       "  COR AROMA SABOR TEXTURA IMPRESSÃO GLOBAL INTENÇÃO DE COMPRA IDADE SEXO  \\\n",
       "1   9     7     5       8                8                  3    20    F   \n",
       "2   8     7     9       9                9                  5    41    F   \n",
       "3   8     7     8       9                8                  4    33    F   \n",
       "4   8     5     7       7                8                  3    26    F   \n",
       "5   7     8     8       8                8                  3    24    M   \n",
       "\n",
       "          cat_idde  \n",
       "1     18 a 25 anos  \n",
       "2  Mais de 40 anos  \n",
       "3     26 a 40 anos  \n",
       "4     26 a 40 anos  \n",
       "5     18 a 25 anos  "
      ]
     },
     "execution_count": 72,
     "metadata": {},
     "output_type": "execute_result"
    }
   ],
   "source": [
    "df365.head()"
   ]
  },
  {
   "cell_type": "code",
   "execution_count": 73,
   "id": "d65021c5",
   "metadata": {},
   "outputs": [],
   "source": [
    "aceitabiliade_365 = (df365[\"COR\"].mean() + df365[\"AROMA\"].mean() + df365[\"TEXTURA\"].mean() + df365[\"SABOR\"].mean()) / 4 "
   ]
  },
  {
   "cell_type": "code",
   "execution_count": 74,
   "id": "713a1db3",
   "metadata": {},
   "outputs": [
    {
     "data": {
      "text/plain": [
       "7.4"
      ]
     },
     "execution_count": 74,
     "metadata": {},
     "output_type": "execute_result"
    }
   ],
   "source": [
    "aceitabiliade_365"
   ]
  },
  {
   "cell_type": "code",
   "execution_count": 75,
   "id": "263d76ac",
   "metadata": {},
   "outputs": [],
   "source": [
    "aceitabiliade_679 = (df679[\"COR\"].mean() + df679[\"AROMA\"].mean() + df679[\"TEXTURA\"].mean() + df679[\"SABOR\"].mean()) / 4 "
   ]
  },
  {
   "cell_type": "code",
   "execution_count": 76,
   "id": "2ccc7ca4",
   "metadata": {},
   "outputs": [
    {
     "data": {
      "text/plain": [
       "7.120000000000001"
      ]
     },
     "execution_count": 76,
     "metadata": {},
     "output_type": "execute_result"
    }
   ],
   "source": [
    "aceitabiliade_679"
   ]
  },
  {
   "cell_type": "code",
   "execution_count": 77,
   "id": "d5873c7a",
   "metadata": {},
   "outputs": [
    {
     "data": {
      "text/html": [
       "<div>\n",
       "<style scoped>\n",
       "    .dataframe tbody tr th:only-of-type {\n",
       "        vertical-align: middle;\n",
       "    }\n",
       "\n",
       "    .dataframe tbody tr th {\n",
       "        vertical-align: top;\n",
       "    }\n",
       "\n",
       "    .dataframe thead th {\n",
       "        text-align: right;\n",
       "    }\n",
       "</style>\n",
       "<table border=\"1\" class=\"dataframe\">\n",
       "  <thead>\n",
       "    <tr style=\"text-align: right;\">\n",
       "      <th></th>\n",
       "      <th>IMPRESSÃO GLOBAL</th>\n",
       "      <th>IDADE</th>\n",
       "    </tr>\n",
       "    <tr>\n",
       "      <th>INTENÇÃO DE COMPRA</th>\n",
       "      <th></th>\n",
       "      <th></th>\n",
       "    </tr>\n",
       "  </thead>\n",
       "  <tbody>\n",
       "    <tr>\n",
       "      <th>2</th>\n",
       "      <td>3.000000</td>\n",
       "      <td>18.000000</td>\n",
       "    </tr>\n",
       "    <tr>\n",
       "      <th>3</th>\n",
       "      <td>6.777778</td>\n",
       "      <td>21.666667</td>\n",
       "    </tr>\n",
       "    <tr>\n",
       "      <th>4</th>\n",
       "      <td>7.148936</td>\n",
       "      <td>22.829787</td>\n",
       "    </tr>\n",
       "    <tr>\n",
       "      <th>5</th>\n",
       "      <td>7.790698</td>\n",
       "      <td>25.209302</td>\n",
       "    </tr>\n",
       "  </tbody>\n",
       "</table>\n",
       "</div>"
      ],
      "text/plain": [
       "                    IMPRESSÃO GLOBAL      IDADE\n",
       "INTENÇÃO DE COMPRA                             \n",
       "2                           3.000000  18.000000\n",
       "3                           6.777778  21.666667\n",
       "4                           7.148936  22.829787\n",
       "5                           7.790698  25.209302"
      ]
     },
     "execution_count": 77,
     "metadata": {},
     "output_type": "execute_result"
    }
   ],
   "source": [
    "df679.groupby(\"INTENÇÃO DE COMPRA\")[[\"IMPRESSÃO GLOBAL\", \"IDADE\"]].mean()"
   ]
  },
  {
   "cell_type": "code",
   "execution_count": null,
   "id": "15f057b6",
   "metadata": {},
   "outputs": [],
   "source": []
  },
  {
   "cell_type": "code",
   "execution_count": 78,
   "id": "315f7d16",
   "metadata": {},
   "outputs": [
    {
     "data": {
      "text/html": [
       "<div>\n",
       "<style scoped>\n",
       "    .dataframe tbody tr th:only-of-type {\n",
       "        vertical-align: middle;\n",
       "    }\n",
       "\n",
       "    .dataframe tbody tr th {\n",
       "        vertical-align: top;\n",
       "    }\n",
       "\n",
       "    .dataframe thead th {\n",
       "        text-align: right;\n",
       "    }\n",
       "</style>\n",
       "<table border=\"1\" class=\"dataframe\">\n",
       "  <thead>\n",
       "    <tr style=\"text-align: right;\">\n",
       "      <th></th>\n",
       "      <th>COR</th>\n",
       "      <th>AROMA</th>\n",
       "      <th>SABOR</th>\n",
       "      <th>TEXTURA</th>\n",
       "      <th>IMPRESSÃO GLOBAL</th>\n",
       "      <th>INTENÇÃO DE COMPRA</th>\n",
       "      <th>IDADE</th>\n",
       "      <th>SEXO</th>\n",
       "      <th>cat_idde</th>\n",
       "    </tr>\n",
       "  </thead>\n",
       "  <tbody>\n",
       "    <tr>\n",
       "      <th>1</th>\n",
       "      <td>6</td>\n",
       "      <td>6</td>\n",
       "      <td>8</td>\n",
       "      <td>8</td>\n",
       "      <td>7</td>\n",
       "      <td>4</td>\n",
       "      <td>18</td>\n",
       "      <td>F</td>\n",
       "      <td>18 a 25 anos</td>\n",
       "    </tr>\n",
       "    <tr>\n",
       "      <th>2</th>\n",
       "      <td>8</td>\n",
       "      <td>6</td>\n",
       "      <td>7</td>\n",
       "      <td>8</td>\n",
       "      <td>8</td>\n",
       "      <td>5</td>\n",
       "      <td>18</td>\n",
       "      <td>F</td>\n",
       "      <td>18 a 25 anos</td>\n",
       "    </tr>\n",
       "    <tr>\n",
       "      <th>3</th>\n",
       "      <td>6</td>\n",
       "      <td>5</td>\n",
       "      <td>6</td>\n",
       "      <td>8</td>\n",
       "      <td>6</td>\n",
       "      <td>4</td>\n",
       "      <td>18</td>\n",
       "      <td>M</td>\n",
       "      <td>18 a 25 anos</td>\n",
       "    </tr>\n",
       "    <tr>\n",
       "      <th>4</th>\n",
       "      <td>6</td>\n",
       "      <td>5</td>\n",
       "      <td>6</td>\n",
       "      <td>8</td>\n",
       "      <td>6</td>\n",
       "      <td>4</td>\n",
       "      <td>18</td>\n",
       "      <td>M</td>\n",
       "      <td>18 a 25 anos</td>\n",
       "    </tr>\n",
       "    <tr>\n",
       "      <th>5</th>\n",
       "      <td>8</td>\n",
       "      <td>9</td>\n",
       "      <td>9</td>\n",
       "      <td>8</td>\n",
       "      <td>8</td>\n",
       "      <td>4</td>\n",
       "      <td>18</td>\n",
       "      <td>F</td>\n",
       "      <td>18 a 25 anos</td>\n",
       "    </tr>\n",
       "  </tbody>\n",
       "</table>\n",
       "</div>"
      ],
      "text/plain": [
       "  COR AROMA SABOR TEXTURA IMPRESSÃO GLOBAL INTENÇÃO DE COMPRA IDADE SEXO  \\\n",
       "1   6     6     8       8                7                  4    18    F   \n",
       "2   8     6     7       8                8                  5    18    F   \n",
       "3   6     5     6       8                6                  4    18    M   \n",
       "4   6     5     6       8                6                  4    18    M   \n",
       "5   8     9     9       8                8                  4    18    F   \n",
       "\n",
       "       cat_idde  \n",
       "1  18 a 25 anos  \n",
       "2  18 a 25 anos  \n",
       "3  18 a 25 anos  \n",
       "4  18 a 25 anos  \n",
       "5  18 a 25 anos  "
      ]
     },
     "execution_count": 78,
     "metadata": {},
     "output_type": "execute_result"
    }
   ],
   "source": [
    "df679.head()"
   ]
  },
  {
   "cell_type": "markdown",
   "id": "56dace5c",
   "metadata": {},
   "source": [
    "Cabe uma analise sobre os casos de ``COR`` e ``SABOR`` que mostraram no teste A / B da analise de variância um valor acima de 0.05 e aroma uma média baixa"
   ]
  },
  {
   "cell_type": "code",
   "execution_count": 79,
   "id": "e5317e7e",
   "metadata": {},
   "outputs": [],
   "source": [
    "df365_at = df365[[\"COR\", \"SABOR\", \"IDADE\", \"SEXO\"]]\n",
    "df679_at = df679[[\"COR\", \"SABOR\", \"IDADE\", \"SEXO\"]]"
   ]
  },
  {
   "cell_type": "code",
   "execution_count": 80,
   "id": "c5f5d143",
   "metadata": {
    "scrolled": true
   },
   "outputs": [
    {
     "data": {
      "text/plain": [
       "23.7"
      ]
     },
     "execution_count": 80,
     "metadata": {},
     "output_type": "execute_result"
    }
   ],
   "source": [
    "df679_at[\"IDADE\"].mean()"
   ]
  }
 ],
 "metadata": {
  "kernelspec": {
   "display_name": "Python 3 (ipykernel)",
   "language": "python",
   "name": "python3"
  },
  "language_info": {
   "codemirror_mode": {
    "name": "ipython",
    "version": 3
   },
   "file_extension": ".py",
   "mimetype": "text/x-python",
   "name": "python",
   "nbconvert_exporter": "python",
   "pygments_lexer": "ipython3",
   "version": "3.9.16"
  }
 },
 "nbformat": 4,
 "nbformat_minor": 5
}
